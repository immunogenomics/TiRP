{
 "cells": [
  {
   "cell_type": "code",
   "execution_count": 24,
   "id": "171d9e40",
   "metadata": {},
   "outputs": [],
   "source": [
    "source(\"utils.R\")"
   ]
  },
  {
   "cell_type": "code",
   "execution_count": 25,
   "id": "b983d2ab",
   "metadata": {},
   "outputs": [],
   "source": [
    "path_to_data <- \"/Users/klagattu/Documents/GitHub/TiRP_data/data\"\n",
    "path_to_results <- \"/Users/klagattu/Documents/GitHub/TiRP/results\""
   ]
  },
  {
   "cell_type": "markdown",
   "id": "7ee19e99",
   "metadata": {},
   "source": [
    "For this demo, we will use publicly available TCR sequences sampled from the human thymus (https://pubmed.ncbi.nlm.nih.gov/32079746/)."
   ]
  },
  {
   "cell_type": "code",
   "execution_count": 50,
   "id": "937151a9",
   "metadata": {},
   "outputs": [],
   "source": [
    "data <- readRDS(paste(path_to_data, \"park2020/park2020_TCRdata.rds\", sep=\"/\"))"
   ]
  },
  {
   "cell_type": "code",
   "execution_count": 51,
   "id": "4e048e49",
   "metadata": {},
   "outputs": [
    {
     "data": {
      "text/html": [
       "<table class=\"dataframe\">\n",
       "<caption>A data.frame: 6 × 3</caption>\n",
       "<thead>\n",
       "\t<tr><th></th><th scope=col>index</th><th scope=col>v_gene</th><th scope=col>cdr3</th></tr>\n",
       "\t<tr><th></th><th scope=col>&lt;chr&gt;</th><th scope=col>&lt;fct&gt;</th><th scope=col>&lt;chr&gt;</th></tr>\n",
       "</thead>\n",
       "<tbody>\n",
       "\t<tr><th scope=row>5</th><td>FCAImmP7292030-AAACCTGCAGCGTAAG</td><td>TRBV9  </td><td>CASSVQRGLTDTQYF </td></tr>\n",
       "\t<tr><th scope=row>8</th><td>FCAImmP7292030-AAACCTGCAGTATCTG</td><td>TRBV4-3</td><td>CASSQVAGGHTGELFF</td></tr>\n",
       "\t<tr><th scope=row>10</th><td>FCAImmP7292030-AAACCTGGTACAGACG</td><td>TRBV7-4</td><td>CASSLGARNYGYTF  </td></tr>\n",
       "\t<tr><th scope=row>18</th><td>FCAImmP7292030-AAACCTGGTCCATCCT</td><td>TRBV27 </td><td>CASSLGNTGELFF   </td></tr>\n",
       "\t<tr><th scope=row>20</th><td>FCAImmP7292030-AAACCTGGTGTTGGGA</td><td>TRBV6-3</td><td>CASSYSGLGETQYF  </td></tr>\n",
       "\t<tr><th scope=row>21</th><td>FCAImmP7292030-AAACCTGGTTAAGAAC</td><td>TRBV9  </td><td>CASSYRGGANVLTF  </td></tr>\n",
       "</tbody>\n",
       "</table>\n"
      ],
      "text/latex": [
       "A data.frame: 6 × 3\n",
       "\\begin{tabular}{r|lll}\n",
       "  & index & v\\_gene & cdr3\\\\\n",
       "  & <chr> & <fct> & <chr>\\\\\n",
       "\\hline\n",
       "\t5 & FCAImmP7292030-AAACCTGCAGCGTAAG & TRBV9   & CASSVQRGLTDTQYF \\\\\n",
       "\t8 & FCAImmP7292030-AAACCTGCAGTATCTG & TRBV4-3 & CASSQVAGGHTGELFF\\\\\n",
       "\t10 & FCAImmP7292030-AAACCTGGTACAGACG & TRBV7-4 & CASSLGARNYGYTF  \\\\\n",
       "\t18 & FCAImmP7292030-AAACCTGGTCCATCCT & TRBV27  & CASSLGNTGELFF   \\\\\n",
       "\t20 & FCAImmP7292030-AAACCTGGTGTTGGGA & TRBV6-3 & CASSYSGLGETQYF  \\\\\n",
       "\t21 & FCAImmP7292030-AAACCTGGTTAAGAAC & TRBV9   & CASSYRGGANVLTF  \\\\\n",
       "\\end{tabular}\n"
      ],
      "text/markdown": [
       "\n",
       "A data.frame: 6 × 3\n",
       "\n",
       "| <!--/--> | index &lt;chr&gt; | v_gene &lt;fct&gt; | cdr3 &lt;chr&gt; |\n",
       "|---|---|---|---|\n",
       "| 5 | FCAImmP7292030-AAACCTGCAGCGTAAG | TRBV9   | CASSVQRGLTDTQYF  |\n",
       "| 8 | FCAImmP7292030-AAACCTGCAGTATCTG | TRBV4-3 | CASSQVAGGHTGELFF |\n",
       "| 10 | FCAImmP7292030-AAACCTGGTACAGACG | TRBV7-4 | CASSLGARNYGYTF   |\n",
       "| 18 | FCAImmP7292030-AAACCTGGTCCATCCT | TRBV27  | CASSLGNTGELFF    |\n",
       "| 20 | FCAImmP7292030-AAACCTGGTGTTGGGA | TRBV6-3 | CASSYSGLGETQYF   |\n",
       "| 21 | FCAImmP7292030-AAACCTGGTTAAGAAC | TRBV9   | CASSYRGGANVLTF   |\n",
       "\n"
      ],
      "text/plain": [
       "   index                           v_gene  cdr3            \n",
       "5  FCAImmP7292030-AAACCTGCAGCGTAAG TRBV9   CASSVQRGLTDTQYF \n",
       "8  FCAImmP7292030-AAACCTGCAGTATCTG TRBV4-3 CASSQVAGGHTGELFF\n",
       "10 FCAImmP7292030-AAACCTGGTACAGACG TRBV7-4 CASSLGARNYGYTF  \n",
       "18 FCAImmP7292030-AAACCTGGTCCATCCT TRBV27  CASSLGNTGELFF   \n",
       "20 FCAImmP7292030-AAACCTGGTGTTGGGA TRBV6-3 CASSYSGLGETQYF  \n",
       "21 FCAImmP7292030-AAACCTGGTTAAGAAC TRBV9   CASSYRGGANVLTF  "
      ]
     },
     "metadata": {},
     "output_type": "display_data"
    }
   ],
   "source": [
    "head(data)"
   ]
  },
  {
   "cell_type": "markdown",
   "id": "0ea438b9",
   "metadata": {},
   "source": [
    "From this CDR3b sequence, we'll define a number of TCR features for further analysis. The first is length (number of amino acids):"
   ]
  },
  {
   "cell_type": "code",
   "execution_count": 52,
   "id": "137251ff",
   "metadata": {},
   "outputs": [
    {
     "data": {
      "text/html": [
       "<table class=\"dataframe\">\n",
       "<caption>A data.frame: 6 × 4</caption>\n",
       "<thead>\n",
       "\t<tr><th></th><th scope=col>index</th><th scope=col>v_gene</th><th scope=col>cdr3</th><th scope=col>length</th></tr>\n",
       "\t<tr><th></th><th scope=col>&lt;chr&gt;</th><th scope=col>&lt;fct&gt;</th><th scope=col>&lt;chr&gt;</th><th scope=col>&lt;int&gt;</th></tr>\n",
       "</thead>\n",
       "<tbody>\n",
       "\t<tr><th scope=row>5</th><td>FCAImmP7292030-AAACCTGCAGCGTAAG</td><td>TRBV9  </td><td>CASSVQRGLTDTQYF </td><td>15</td></tr>\n",
       "\t<tr><th scope=row>8</th><td>FCAImmP7292030-AAACCTGCAGTATCTG</td><td>TRBV4-3</td><td>CASSQVAGGHTGELFF</td><td>16</td></tr>\n",
       "\t<tr><th scope=row>10</th><td>FCAImmP7292030-AAACCTGGTACAGACG</td><td>TRBV7-4</td><td>CASSLGARNYGYTF  </td><td>14</td></tr>\n",
       "\t<tr><th scope=row>18</th><td>FCAImmP7292030-AAACCTGGTCCATCCT</td><td>TRBV27 </td><td>CASSLGNTGELFF   </td><td>13</td></tr>\n",
       "\t<tr><th scope=row>20</th><td>FCAImmP7292030-AAACCTGGTGTTGGGA</td><td>TRBV6-3</td><td>CASSYSGLGETQYF  </td><td>14</td></tr>\n",
       "\t<tr><th scope=row>21</th><td>FCAImmP7292030-AAACCTGGTTAAGAAC</td><td>TRBV9  </td><td>CASSYRGGANVLTF  </td><td>14</td></tr>\n",
       "</tbody>\n",
       "</table>\n"
      ],
      "text/latex": [
       "A data.frame: 6 × 4\n",
       "\\begin{tabular}{r|llll}\n",
       "  & index & v\\_gene & cdr3 & length\\\\\n",
       "  & <chr> & <fct> & <chr> & <int>\\\\\n",
       "\\hline\n",
       "\t5 & FCAImmP7292030-AAACCTGCAGCGTAAG & TRBV9   & CASSVQRGLTDTQYF  & 15\\\\\n",
       "\t8 & FCAImmP7292030-AAACCTGCAGTATCTG & TRBV4-3 & CASSQVAGGHTGELFF & 16\\\\\n",
       "\t10 & FCAImmP7292030-AAACCTGGTACAGACG & TRBV7-4 & CASSLGARNYGYTF   & 14\\\\\n",
       "\t18 & FCAImmP7292030-AAACCTGGTCCATCCT & TRBV27  & CASSLGNTGELFF    & 13\\\\\n",
       "\t20 & FCAImmP7292030-AAACCTGGTGTTGGGA & TRBV6-3 & CASSYSGLGETQYF   & 14\\\\\n",
       "\t21 & FCAImmP7292030-AAACCTGGTTAAGAAC & TRBV9   & CASSYRGGANVLTF   & 14\\\\\n",
       "\\end{tabular}\n"
      ],
      "text/markdown": [
       "\n",
       "A data.frame: 6 × 4\n",
       "\n",
       "| <!--/--> | index &lt;chr&gt; | v_gene &lt;fct&gt; | cdr3 &lt;chr&gt; | length &lt;int&gt; |\n",
       "|---|---|---|---|---|\n",
       "| 5 | FCAImmP7292030-AAACCTGCAGCGTAAG | TRBV9   | CASSVQRGLTDTQYF  | 15 |\n",
       "| 8 | FCAImmP7292030-AAACCTGCAGTATCTG | TRBV4-3 | CASSQVAGGHTGELFF | 16 |\n",
       "| 10 | FCAImmP7292030-AAACCTGGTACAGACG | TRBV7-4 | CASSLGARNYGYTF   | 14 |\n",
       "| 18 | FCAImmP7292030-AAACCTGGTCCATCCT | TRBV27  | CASSLGNTGELFF    | 13 |\n",
       "| 20 | FCAImmP7292030-AAACCTGGTGTTGGGA | TRBV6-3 | CASSYSGLGETQYF   | 14 |\n",
       "| 21 | FCAImmP7292030-AAACCTGGTTAAGAAC | TRBV9   | CASSYRGGANVLTF   | 14 |\n",
       "\n"
      ],
      "text/plain": [
       "   index                           v_gene  cdr3             length\n",
       "5  FCAImmP7292030-AAACCTGCAGCGTAAG TRBV9   CASSVQRGLTDTQYF  15    \n",
       "8  FCAImmP7292030-AAACCTGCAGTATCTG TRBV4-3 CASSQVAGGHTGELFF 16    \n",
       "10 FCAImmP7292030-AAACCTGGTACAGACG TRBV7-4 CASSLGARNYGYTF   14    \n",
       "18 FCAImmP7292030-AAACCTGGTCCATCCT TRBV27  CASSLGNTGELFF    13    \n",
       "20 FCAImmP7292030-AAACCTGGTGTTGGGA TRBV6-3 CASSYSGLGETQYF   14    \n",
       "21 FCAImmP7292030-AAACCTGGTTAAGAAC TRBV9   CASSYRGGANVLTF   14    "
      ]
     },
     "metadata": {},
     "output_type": "display_data"
    }
   ],
   "source": [
    "data$cdr3 <- as.character(data$cdr3)\n",
    "data$length <- sapply(data$cdr3, function(x) nchar(x))\n",
    "data <- data[data$length>=12 & data$length<=17,]\n",
    "head(data)"
   ]
  },
  {
   "cell_type": "markdown",
   "id": "81e7b8cf",
   "metadata": {},
   "source": [
    "The function **add_poisitionalAA()** in *utils.R* parses the CDR3b sequence into non-redundant positional features. Due to the mutual information structure of the sequence (see **display_items/Figure_2.ipynb**), we analyze the flanking residues of CDR3 in blocks, termed the **Vmotif** and the **Jmotif**)."
   ]
  },
  {
   "cell_type": "code",
   "execution_count": 32,
   "id": "63c1d9ba",
   "metadata": {},
   "outputs": [],
   "source": [
    "data <- add_positionalAA(exc_VJ=TRUE)"
   ]
  },
  {
   "cell_type": "code",
   "execution_count": 33,
   "id": "07074652",
   "metadata": {},
   "outputs": [
    {
     "data": {
      "text/html": [
       "<table class=\"dataframe\">\n",
       "<caption>A data.frame: 6 × 16</caption>\n",
       "<thead>\n",
       "\t<tr><th></th><th scope=col>v_gene</th><th scope=col>cdr3</th><th scope=col>index</th><th scope=col>length</th><th scope=col>sequence</th><th scope=col>Vmotif</th><th scope=col>p107</th><th scope=col>p108</th><th scope=col>p109</th><th scope=col>p110</th><th scope=col>p111</th><th scope=col>p111.1</th><th scope=col>p112.1</th><th scope=col>p112</th><th scope=col>p113</th><th scope=col>Jmotif</th></tr>\n",
       "\t<tr><th></th><th scope=col>&lt;fct&gt;</th><th scope=col>&lt;chr&gt;</th><th scope=col>&lt;chr&gt;</th><th scope=col>&lt;int&gt;</th><th scope=col>&lt;chr&gt;</th><th scope=col>&lt;chr&gt;</th><th scope=col>&lt;chr&gt;</th><th scope=col>&lt;chr&gt;</th><th scope=col>&lt;chr&gt;</th><th scope=col>&lt;chr&gt;</th><th scope=col>&lt;chr&gt;</th><th scope=col>&lt;chr&gt;</th><th scope=col>&lt;chr&gt;</th><th scope=col>&lt;chr&gt;</th><th scope=col>&lt;chr&gt;</th><th scope=col>&lt;chr&gt;</th></tr>\n",
       "</thead>\n",
       "<tbody>\n",
       "\t<tr><th scope=row>5</th><td>TRBV9  </td><td>CASSVQRGLTDTQYF </td><td>FCAImmP7292030-AAACCTGCAGCGTAAG</td><td>15</td><td>CASSVQRGLTDTQYF </td><td>CAS</td><td>S</td><td>V</td><td>Q</td><td>R</td><td>G</td><td>*</td><td>*</td><td>L</td><td>T</td><td>DTQYF</td></tr>\n",
       "\t<tr><th scope=row>8</th><td>TRBV4-3</td><td>CASSQVAGGHTGELFF</td><td>FCAImmP7292030-AAACCTGCAGTATCTG</td><td>16</td><td>CASSQVAGGHTGELFF</td><td>CAS</td><td>S</td><td>Q</td><td>V</td><td>A</td><td>G</td><td>*</td><td>G</td><td>H</td><td>T</td><td>GELFF</td></tr>\n",
       "\t<tr><th scope=row>10</th><td>TRBV7-4</td><td>CASSLGARNYGYTF  </td><td>FCAImmP7292030-AAACCTGGTACAGACG</td><td>14</td><td>CASSLGARNYGYTF  </td><td>CAS</td><td>S</td><td>L</td><td>G</td><td>A</td><td>*</td><td>*</td><td>*</td><td>R</td><td>N</td><td>YGYTF</td></tr>\n",
       "\t<tr><th scope=row>18</th><td>TRBV27 </td><td>CASSLGNTGELFF   </td><td>FCAImmP7292030-AAACCTGGTCCATCCT</td><td>13</td><td>CASSLGNTGELFF   </td><td>CAS</td><td>S</td><td>L</td><td>G</td><td>N</td><td>*</td><td>*</td><td>*</td><td>*</td><td>T</td><td>GELFF</td></tr>\n",
       "\t<tr><th scope=row>20</th><td>TRBV6-3</td><td>CASSYSGLGETQYF  </td><td>FCAImmP7292030-AAACCTGGTGTTGGGA</td><td>14</td><td>CASSYSGLGETQYF  </td><td>CAS</td><td>S</td><td>Y</td><td>S</td><td>G</td><td>*</td><td>*</td><td>*</td><td>L</td><td>G</td><td>ETQYF</td></tr>\n",
       "\t<tr><th scope=row>21</th><td>TRBV9  </td><td>CASSYRGGANVLTF  </td><td>FCAImmP7292030-AAACCTGGTTAAGAAC</td><td>14</td><td>CASSYRGGANVLTF  </td><td>CAS</td><td>S</td><td>Y</td><td>R</td><td>G</td><td>*</td><td>*</td><td>*</td><td>G</td><td>A</td><td>NVLTF</td></tr>\n",
       "</tbody>\n",
       "</table>\n"
      ],
      "text/latex": [
       "A data.frame: 6 × 16\n",
       "\\begin{tabular}{r|llllllllllllllll}\n",
       "  & v\\_gene & cdr3 & index & length & sequence & Vmotif & p107 & p108 & p109 & p110 & p111 & p111.1 & p112.1 & p112 & p113 & Jmotif\\\\\n",
       "  & <fct> & <chr> & <chr> & <int> & <chr> & <chr> & <chr> & <chr> & <chr> & <chr> & <chr> & <chr> & <chr> & <chr> & <chr> & <chr>\\\\\n",
       "\\hline\n",
       "\t5 & TRBV9   & CASSVQRGLTDTQYF  & FCAImmP7292030-AAACCTGCAGCGTAAG & 15 & CASSVQRGLTDTQYF  & CAS & S & V & Q & R & G & * & * & L & T & DTQYF\\\\\n",
       "\t8 & TRBV4-3 & CASSQVAGGHTGELFF & FCAImmP7292030-AAACCTGCAGTATCTG & 16 & CASSQVAGGHTGELFF & CAS & S & Q & V & A & G & * & G & H & T & GELFF\\\\\n",
       "\t10 & TRBV7-4 & CASSLGARNYGYTF   & FCAImmP7292030-AAACCTGGTACAGACG & 14 & CASSLGARNYGYTF   & CAS & S & L & G & A & * & * & * & R & N & YGYTF\\\\\n",
       "\t18 & TRBV27  & CASSLGNTGELFF    & FCAImmP7292030-AAACCTGGTCCATCCT & 13 & CASSLGNTGELFF    & CAS & S & L & G & N & * & * & * & * & T & GELFF\\\\\n",
       "\t20 & TRBV6-3 & CASSYSGLGETQYF   & FCAImmP7292030-AAACCTGGTGTTGGGA & 14 & CASSYSGLGETQYF   & CAS & S & Y & S & G & * & * & * & L & G & ETQYF\\\\\n",
       "\t21 & TRBV9   & CASSYRGGANVLTF   & FCAImmP7292030-AAACCTGGTTAAGAAC & 14 & CASSYRGGANVLTF   & CAS & S & Y & R & G & * & * & * & G & A & NVLTF\\\\\n",
       "\\end{tabular}\n"
      ],
      "text/markdown": [
       "\n",
       "A data.frame: 6 × 16\n",
       "\n",
       "| <!--/--> | v_gene &lt;fct&gt; | cdr3 &lt;chr&gt; | index &lt;chr&gt; | length &lt;int&gt; | sequence &lt;chr&gt; | Vmotif &lt;chr&gt; | p107 &lt;chr&gt; | p108 &lt;chr&gt; | p109 &lt;chr&gt; | p110 &lt;chr&gt; | p111 &lt;chr&gt; | p111.1 &lt;chr&gt; | p112.1 &lt;chr&gt; | p112 &lt;chr&gt; | p113 &lt;chr&gt; | Jmotif &lt;chr&gt; |\n",
       "|---|---|---|---|---|---|---|---|---|---|---|---|---|---|---|---|---|\n",
       "| 5 | TRBV9   | CASSVQRGLTDTQYF  | FCAImmP7292030-AAACCTGCAGCGTAAG | 15 | CASSVQRGLTDTQYF  | CAS | S | V | Q | R | G | * | * | L | T | DTQYF |\n",
       "| 8 | TRBV4-3 | CASSQVAGGHTGELFF | FCAImmP7292030-AAACCTGCAGTATCTG | 16 | CASSQVAGGHTGELFF | CAS | S | Q | V | A | G | * | G | H | T | GELFF |\n",
       "| 10 | TRBV7-4 | CASSLGARNYGYTF   | FCAImmP7292030-AAACCTGGTACAGACG | 14 | CASSLGARNYGYTF   | CAS | S | L | G | A | * | * | * | R | N | YGYTF |\n",
       "| 18 | TRBV27  | CASSLGNTGELFF    | FCAImmP7292030-AAACCTGGTCCATCCT | 13 | CASSLGNTGELFF    | CAS | S | L | G | N | * | * | * | * | T | GELFF |\n",
       "| 20 | TRBV6-3 | CASSYSGLGETQYF   | FCAImmP7292030-AAACCTGGTGTTGGGA | 14 | CASSYSGLGETQYF   | CAS | S | Y | S | G | * | * | * | L | G | ETQYF |\n",
       "| 21 | TRBV9   | CASSYRGGANVLTF   | FCAImmP7292030-AAACCTGGTTAAGAAC | 14 | CASSYRGGANVLTF   | CAS | S | Y | R | G | * | * | * | G | A | NVLTF |\n",
       "\n"
      ],
      "text/plain": [
       "   v_gene  cdr3             index                           length\n",
       "5  TRBV9   CASSVQRGLTDTQYF  FCAImmP7292030-AAACCTGCAGCGTAAG 15    \n",
       "8  TRBV4-3 CASSQVAGGHTGELFF FCAImmP7292030-AAACCTGCAGTATCTG 16    \n",
       "10 TRBV7-4 CASSLGARNYGYTF   FCAImmP7292030-AAACCTGGTACAGACG 14    \n",
       "18 TRBV27  CASSLGNTGELFF    FCAImmP7292030-AAACCTGGTCCATCCT 13    \n",
       "20 TRBV6-3 CASSYSGLGETQYF   FCAImmP7292030-AAACCTGGTGTTGGGA 14    \n",
       "21 TRBV9   CASSYRGGANVLTF   FCAImmP7292030-AAACCTGGTTAAGAAC 14    \n",
       "   sequence         Vmotif p107 p108 p109 p110 p111 p111.1 p112.1 p112 p113\n",
       "5  CASSVQRGLTDTQYF  CAS    S    V    Q    R    G    *      *      L    T   \n",
       "8  CASSQVAGGHTGELFF CAS    S    Q    V    A    G    *      G      H    T   \n",
       "10 CASSLGARNYGYTF   CAS    S    L    G    A    *    *      *      R    N   \n",
       "18 CASSLGNTGELFF    CAS    S    L    G    N    *    *      *      *    T   \n",
       "20 CASSYSGLGETQYF   CAS    S    Y    S    G    *    *      *      L    G   \n",
       "21 CASSYRGGANVLTF   CAS    S    Y    R    G    *    *      *      G    A   \n",
       "   Jmotif\n",
       "5  DTQYF \n",
       "8  GELFF \n",
       "10 YGYTF \n",
       "18 GELFF \n",
       "20 ETQYF \n",
       "21 NVLTF "
      ]
     },
     "metadata": {},
     "output_type": "display_data"
    }
   ],
   "source": [
    "head(data)"
   ]
  },
  {
   "cell_type": "markdown",
   "id": "99074bba",
   "metadata": {},
   "source": [
    "In our analyses, we found that Tregs and Tconvs differed in their **general usage of amino acids in the CDR3b middle region** (CDR3bmr, from IMGT position 108 - position 112). \n",
    "\n",
    "Adding these TCR features:"
   ]
  },
  {
   "cell_type": "code",
   "execution_count": 34,
   "id": "9347772c",
   "metadata": {},
   "outputs": [],
   "source": [
    "cdr3MR = sapply(data$cdr3, function(x) substr(x, 5, nchar(x)-6))\n",
    "aminos = c(\"A\", \"C\", \"D\", \"E\", \"F\", \"G\", \"H\", \"I\", \"K\", \"L\", \"M\", \"N\", \"P\", \"Q\", \"R\", \"S\", \"T\", \"V\", \"W\", \"Y\")\n",
    "for (i in 1:length(aminos)){\n",
    "    new = sapply(cdr3MR, function(x) 100 * str_count(x, aminos[i])/nchar(x))\n",
    "    data = cbind(data, new)\n",
    "    colnames(data)[ncol(data)] = paste(\"perc_mid\", aminos[i], sep=\"_\")\n",
    "}"
   ]
  },
  {
   "cell_type": "code",
   "execution_count": 35,
   "id": "704e1361",
   "metadata": {},
   "outputs": [
    {
     "data": {
      "text/html": [
       "<table class=\"dataframe\">\n",
       "<caption>A data.frame: 6 × 36</caption>\n",
       "<thead>\n",
       "\t<tr><th></th><th scope=col>v_gene</th><th scope=col>cdr3</th><th scope=col>index</th><th scope=col>length</th><th scope=col>sequence</th><th scope=col>Vmotif</th><th scope=col>p107</th><th scope=col>p108</th><th scope=col>p109</th><th scope=col>p110</th><th scope=col>⋯</th><th scope=col>perc_mid_M</th><th scope=col>perc_mid_N</th><th scope=col>perc_mid_P</th><th scope=col>perc_mid_Q</th><th scope=col>perc_mid_R</th><th scope=col>perc_mid_S</th><th scope=col>perc_mid_T</th><th scope=col>perc_mid_V</th><th scope=col>perc_mid_W</th><th scope=col>perc_mid_Y</th></tr>\n",
       "\t<tr><th></th><th scope=col>&lt;fct&gt;</th><th scope=col>&lt;chr&gt;</th><th scope=col>&lt;chr&gt;</th><th scope=col>&lt;int&gt;</th><th scope=col>&lt;chr&gt;</th><th scope=col>&lt;chr&gt;</th><th scope=col>&lt;chr&gt;</th><th scope=col>&lt;chr&gt;</th><th scope=col>&lt;chr&gt;</th><th scope=col>&lt;chr&gt;</th><th scope=col>⋯</th><th scope=col>&lt;dbl&gt;</th><th scope=col>&lt;dbl&gt;</th><th scope=col>&lt;dbl&gt;</th><th scope=col>&lt;dbl&gt;</th><th scope=col>&lt;dbl&gt;</th><th scope=col>&lt;dbl&gt;</th><th scope=col>&lt;dbl&gt;</th><th scope=col>&lt;dbl&gt;</th><th scope=col>&lt;dbl&gt;</th><th scope=col>&lt;dbl&gt;</th></tr>\n",
       "</thead>\n",
       "<tbody>\n",
       "\t<tr><th scope=row>5</th><td>TRBV9  </td><td>CASSVQRGLTDTQYF </td><td>FCAImmP7292030-AAACCTGCAGCGTAAG</td><td>15</td><td>CASSVQRGLTDTQYF </td><td>CAS</td><td>S</td><td>V</td><td>Q</td><td>R</td><td>⋯</td><td>0</td><td> 0.00000</td><td>0</td><td>20.00000</td><td>20</td><td> 0</td><td>0</td><td>20.00000</td><td>0</td><td> 0</td></tr>\n",
       "\t<tr><th scope=row>8</th><td>TRBV4-3</td><td>CASSQVAGGHTGELFF</td><td>FCAImmP7292030-AAACCTGCAGTATCTG</td><td>16</td><td>CASSQVAGGHTGELFF</td><td>CAS</td><td>S</td><td>Q</td><td>V</td><td>A</td><td>⋯</td><td>0</td><td> 0.00000</td><td>0</td><td>16.66667</td><td> 0</td><td> 0</td><td>0</td><td>16.66667</td><td>0</td><td> 0</td></tr>\n",
       "\t<tr><th scope=row>10</th><td>TRBV7-4</td><td>CASSLGARNYGYTF  </td><td>FCAImmP7292030-AAACCTGGTACAGACG</td><td>14</td><td>CASSLGARNYGYTF  </td><td>CAS</td><td>S</td><td>L</td><td>G</td><td>A</td><td>⋯</td><td>0</td><td> 0.00000</td><td>0</td><td> 0.00000</td><td>25</td><td> 0</td><td>0</td><td> 0.00000</td><td>0</td><td> 0</td></tr>\n",
       "\t<tr><th scope=row>18</th><td>TRBV27 </td><td>CASSLGNTGELFF   </td><td>FCAImmP7292030-AAACCTGGTCCATCCT</td><td>13</td><td>CASSLGNTGELFF   </td><td>CAS</td><td>S</td><td>L</td><td>G</td><td>N</td><td>⋯</td><td>0</td><td>33.33333</td><td>0</td><td> 0.00000</td><td> 0</td><td> 0</td><td>0</td><td> 0.00000</td><td>0</td><td> 0</td></tr>\n",
       "\t<tr><th scope=row>20</th><td>TRBV6-3</td><td>CASSYSGLGETQYF  </td><td>FCAImmP7292030-AAACCTGGTGTTGGGA</td><td>14</td><td>CASSYSGLGETQYF  </td><td>CAS</td><td>S</td><td>Y</td><td>S</td><td>G</td><td>⋯</td><td>0</td><td> 0.00000</td><td>0</td><td> 0.00000</td><td> 0</td><td>25</td><td>0</td><td> 0.00000</td><td>0</td><td>25</td></tr>\n",
       "\t<tr><th scope=row>21</th><td>TRBV9  </td><td>CASSYRGGANVLTF  </td><td>FCAImmP7292030-AAACCTGGTTAAGAAC</td><td>14</td><td>CASSYRGGANVLTF  </td><td>CAS</td><td>S</td><td>Y</td><td>R</td><td>G</td><td>⋯</td><td>0</td><td> 0.00000</td><td>0</td><td> 0.00000</td><td>25</td><td> 0</td><td>0</td><td> 0.00000</td><td>0</td><td>25</td></tr>\n",
       "</tbody>\n",
       "</table>\n"
      ],
      "text/latex": [
       "A data.frame: 6 × 36\n",
       "\\begin{tabular}{r|lllllllllllllllllllll}\n",
       "  & v\\_gene & cdr3 & index & length & sequence & Vmotif & p107 & p108 & p109 & p110 & ⋯ & perc\\_mid\\_M & perc\\_mid\\_N & perc\\_mid\\_P & perc\\_mid\\_Q & perc\\_mid\\_R & perc\\_mid\\_S & perc\\_mid\\_T & perc\\_mid\\_V & perc\\_mid\\_W & perc\\_mid\\_Y\\\\\n",
       "  & <fct> & <chr> & <chr> & <int> & <chr> & <chr> & <chr> & <chr> & <chr> & <chr> & ⋯ & <dbl> & <dbl> & <dbl> & <dbl> & <dbl> & <dbl> & <dbl> & <dbl> & <dbl> & <dbl>\\\\\n",
       "\\hline\n",
       "\t5 & TRBV9   & CASSVQRGLTDTQYF  & FCAImmP7292030-AAACCTGCAGCGTAAG & 15 & CASSVQRGLTDTQYF  & CAS & S & V & Q & R & ⋯ & 0 &  0.00000 & 0 & 20.00000 & 20 &  0 & 0 & 20.00000 & 0 &  0\\\\\n",
       "\t8 & TRBV4-3 & CASSQVAGGHTGELFF & FCAImmP7292030-AAACCTGCAGTATCTG & 16 & CASSQVAGGHTGELFF & CAS & S & Q & V & A & ⋯ & 0 &  0.00000 & 0 & 16.66667 &  0 &  0 & 0 & 16.66667 & 0 &  0\\\\\n",
       "\t10 & TRBV7-4 & CASSLGARNYGYTF   & FCAImmP7292030-AAACCTGGTACAGACG & 14 & CASSLGARNYGYTF   & CAS & S & L & G & A & ⋯ & 0 &  0.00000 & 0 &  0.00000 & 25 &  0 & 0 &  0.00000 & 0 &  0\\\\\n",
       "\t18 & TRBV27  & CASSLGNTGELFF    & FCAImmP7292030-AAACCTGGTCCATCCT & 13 & CASSLGNTGELFF    & CAS & S & L & G & N & ⋯ & 0 & 33.33333 & 0 &  0.00000 &  0 &  0 & 0 &  0.00000 & 0 &  0\\\\\n",
       "\t20 & TRBV6-3 & CASSYSGLGETQYF   & FCAImmP7292030-AAACCTGGTGTTGGGA & 14 & CASSYSGLGETQYF   & CAS & S & Y & S & G & ⋯ & 0 &  0.00000 & 0 &  0.00000 &  0 & 25 & 0 &  0.00000 & 0 & 25\\\\\n",
       "\t21 & TRBV9   & CASSYRGGANVLTF   & FCAImmP7292030-AAACCTGGTTAAGAAC & 14 & CASSYRGGANVLTF   & CAS & S & Y & R & G & ⋯ & 0 &  0.00000 & 0 &  0.00000 & 25 &  0 & 0 &  0.00000 & 0 & 25\\\\\n",
       "\\end{tabular}\n"
      ],
      "text/markdown": [
       "\n",
       "A data.frame: 6 × 36\n",
       "\n",
       "| <!--/--> | v_gene &lt;fct&gt; | cdr3 &lt;chr&gt; | index &lt;chr&gt; | length &lt;int&gt; | sequence &lt;chr&gt; | Vmotif &lt;chr&gt; | p107 &lt;chr&gt; | p108 &lt;chr&gt; | p109 &lt;chr&gt; | p110 &lt;chr&gt; | ⋯ ⋯ | perc_mid_M &lt;dbl&gt; | perc_mid_N &lt;dbl&gt; | perc_mid_P &lt;dbl&gt; | perc_mid_Q &lt;dbl&gt; | perc_mid_R &lt;dbl&gt; | perc_mid_S &lt;dbl&gt; | perc_mid_T &lt;dbl&gt; | perc_mid_V &lt;dbl&gt; | perc_mid_W &lt;dbl&gt; | perc_mid_Y &lt;dbl&gt; |\n",
       "|---|---|---|---|---|---|---|---|---|---|---|---|---|---|---|---|---|---|---|---|---|---|\n",
       "| 5 | TRBV9   | CASSVQRGLTDTQYF  | FCAImmP7292030-AAACCTGCAGCGTAAG | 15 | CASSVQRGLTDTQYF  | CAS | S | V | Q | R | ⋯ | 0 |  0.00000 | 0 | 20.00000 | 20 |  0 | 0 | 20.00000 | 0 |  0 |\n",
       "| 8 | TRBV4-3 | CASSQVAGGHTGELFF | FCAImmP7292030-AAACCTGCAGTATCTG | 16 | CASSQVAGGHTGELFF | CAS | S | Q | V | A | ⋯ | 0 |  0.00000 | 0 | 16.66667 |  0 |  0 | 0 | 16.66667 | 0 |  0 |\n",
       "| 10 | TRBV7-4 | CASSLGARNYGYTF   | FCAImmP7292030-AAACCTGGTACAGACG | 14 | CASSLGARNYGYTF   | CAS | S | L | G | A | ⋯ | 0 |  0.00000 | 0 |  0.00000 | 25 |  0 | 0 |  0.00000 | 0 |  0 |\n",
       "| 18 | TRBV27  | CASSLGNTGELFF    | FCAImmP7292030-AAACCTGGTCCATCCT | 13 | CASSLGNTGELFF    | CAS | S | L | G | N | ⋯ | 0 | 33.33333 | 0 |  0.00000 |  0 |  0 | 0 |  0.00000 | 0 |  0 |\n",
       "| 20 | TRBV6-3 | CASSYSGLGETQYF   | FCAImmP7292030-AAACCTGGTGTTGGGA | 14 | CASSYSGLGETQYF   | CAS | S | Y | S | G | ⋯ | 0 |  0.00000 | 0 |  0.00000 |  0 | 25 | 0 |  0.00000 | 0 | 25 |\n",
       "| 21 | TRBV9   | CASSYRGGANVLTF   | FCAImmP7292030-AAACCTGGTTAAGAAC | 14 | CASSYRGGANVLTF   | CAS | S | Y | R | G | ⋯ | 0 |  0.00000 | 0 |  0.00000 | 25 |  0 | 0 |  0.00000 | 0 | 25 |\n",
       "\n"
      ],
      "text/plain": [
       "   v_gene  cdr3             index                           length\n",
       "5  TRBV9   CASSVQRGLTDTQYF  FCAImmP7292030-AAACCTGCAGCGTAAG 15    \n",
       "8  TRBV4-3 CASSQVAGGHTGELFF FCAImmP7292030-AAACCTGCAGTATCTG 16    \n",
       "10 TRBV7-4 CASSLGARNYGYTF   FCAImmP7292030-AAACCTGGTACAGACG 14    \n",
       "18 TRBV27  CASSLGNTGELFF    FCAImmP7292030-AAACCTGGTCCATCCT 13    \n",
       "20 TRBV6-3 CASSYSGLGETQYF   FCAImmP7292030-AAACCTGGTGTTGGGA 14    \n",
       "21 TRBV9   CASSYRGGANVLTF   FCAImmP7292030-AAACCTGGTTAAGAAC 14    \n",
       "   sequence         Vmotif p107 p108 p109 p110 ⋯ perc_mid_M perc_mid_N\n",
       "5  CASSVQRGLTDTQYF  CAS    S    V    Q    R    ⋯ 0           0.00000  \n",
       "8  CASSQVAGGHTGELFF CAS    S    Q    V    A    ⋯ 0           0.00000  \n",
       "10 CASSLGARNYGYTF   CAS    S    L    G    A    ⋯ 0           0.00000  \n",
       "18 CASSLGNTGELFF    CAS    S    L    G    N    ⋯ 0          33.33333  \n",
       "20 CASSYSGLGETQYF   CAS    S    Y    S    G    ⋯ 0           0.00000  \n",
       "21 CASSYRGGANVLTF   CAS    S    Y    R    G    ⋯ 0           0.00000  \n",
       "   perc_mid_P perc_mid_Q perc_mid_R perc_mid_S perc_mid_T perc_mid_V perc_mid_W\n",
       "5  0          20.00000   20          0         0          20.00000   0         \n",
       "8  0          16.66667    0          0         0          16.66667   0         \n",
       "10 0           0.00000   25          0         0           0.00000   0         \n",
       "18 0           0.00000    0          0         0           0.00000   0         \n",
       "20 0           0.00000    0         25         0           0.00000   0         \n",
       "21 0           0.00000   25          0         0           0.00000   0         \n",
       "   perc_mid_Y\n",
       "5   0        \n",
       "8   0        \n",
       "10  0        \n",
       "18  0        \n",
       "20 25        \n",
       "21 25        "
      ]
     },
     "metadata": {},
     "output_type": "display_data"
    }
   ],
   "source": [
    "head(data)"
   ]
  },
  {
   "cell_type": "markdown",
   "id": "f1b9aad9",
   "metadata": {},
   "source": [
    "The types of amino acids that were enriched in Tregs prompted us to hypothesize that these immune receptors differed in terms of physicochemical properties such as hydrophobicity.\n",
    "\n",
    "The following lines of code add TCR position-specific hydrophobicity, isolectric point (pI), and volume for further analysis:"
   ]
  },
  {
   "cell_type": "code",
   "execution_count": 37,
   "id": "62f35371",
   "metadata": {},
   "outputs": [],
   "source": [
    "phys = readRDS(paste(path_to_data, \"aminoacid_physiochemical_feats.rds\", sep=\"/\"))"
   ]
  },
  {
   "cell_type": "code",
   "execution_count": 38,
   "id": "c25d76c7",
   "metadata": {},
   "outputs": [
    {
     "data": {
      "text/html": [
       "<table class=\"dataframe\">\n",
       "<caption>A data.frame: 6 × 4</caption>\n",
       "<thead>\n",
       "\t<tr><th></th><th scope=col>AA</th><th scope=col>pI</th><th scope=col>IFH</th><th scope=col>volume</th></tr>\n",
       "\t<tr><th></th><th scope=col>&lt;fct&gt;</th><th scope=col>&lt;dbl&gt;</th><th scope=col>&lt;dbl&gt;</th><th scope=col>&lt;dbl&gt;</th></tr>\n",
       "</thead>\n",
       "<tbody>\n",
       "\t<tr><th scope=row>1</th><td>A</td><td> 6.00</td><td>-0.17</td><td> 88.6</td></tr>\n",
       "\t<tr><th scope=row>2</th><td>R</td><td>10.76</td><td>-0.81</td><td>173.4</td></tr>\n",
       "\t<tr><th scope=row>3</th><td>N</td><td> 5.41</td><td>-0.42</td><td>114.1</td></tr>\n",
       "\t<tr><th scope=row>4</th><td>D</td><td> 2.77</td><td>-1.23</td><td>111.1</td></tr>\n",
       "\t<tr><th scope=row>5</th><td>C</td><td> 5.07</td><td> 0.24</td><td>108.5</td></tr>\n",
       "\t<tr><th scope=row>6</th><td>Q</td><td> 5.65</td><td>-0.58</td><td>143.8</td></tr>\n",
       "</tbody>\n",
       "</table>\n"
      ],
      "text/latex": [
       "A data.frame: 6 × 4\n",
       "\\begin{tabular}{r|llll}\n",
       "  & AA & pI & IFH & volume\\\\\n",
       "  & <fct> & <dbl> & <dbl> & <dbl>\\\\\n",
       "\\hline\n",
       "\t1 & A &  6.00 & -0.17 &  88.6\\\\\n",
       "\t2 & R & 10.76 & -0.81 & 173.4\\\\\n",
       "\t3 & N &  5.41 & -0.42 & 114.1\\\\\n",
       "\t4 & D &  2.77 & -1.23 & 111.1\\\\\n",
       "\t5 & C &  5.07 &  0.24 & 108.5\\\\\n",
       "\t6 & Q &  5.65 & -0.58 & 143.8\\\\\n",
       "\\end{tabular}\n"
      ],
      "text/markdown": [
       "\n",
       "A data.frame: 6 × 4\n",
       "\n",
       "| <!--/--> | AA &lt;fct&gt; | pI &lt;dbl&gt; | IFH &lt;dbl&gt; | volume &lt;dbl&gt; |\n",
       "|---|---|---|---|---|\n",
       "| 1 | A |  6.00 | -0.17 |  88.6 |\n",
       "| 2 | R | 10.76 | -0.81 | 173.4 |\n",
       "| 3 | N |  5.41 | -0.42 | 114.1 |\n",
       "| 4 | D |  2.77 | -1.23 | 111.1 |\n",
       "| 5 | C |  5.07 |  0.24 | 108.5 |\n",
       "| 6 | Q |  5.65 | -0.58 | 143.8 |\n",
       "\n"
      ],
      "text/plain": [
       "  AA pI    IFH   volume\n",
       "1 A   6.00 -0.17  88.6 \n",
       "2 R  10.76 -0.81 173.4 \n",
       "3 N   5.41 -0.42 114.1 \n",
       "4 D   2.77 -1.23 111.1 \n",
       "5 C   5.07  0.24 108.5 \n",
       "6 Q   5.65 -0.58 143.8 "
      ]
     },
     "metadata": {},
     "output_type": "display_data"
    }
   ],
   "source": [
    "head(phys)"
   ]
  },
  {
   "cell_type": "code",
   "execution_count": 39,
   "id": "2fe429e1",
   "metadata": {},
   "outputs": [],
   "source": [
    "poss = colnames(data)[grepl(\"p1\", colnames(data))]"
   ]
  },
  {
   "cell_type": "code",
   "execution_count": 42,
   "id": "cedf85fe",
   "metadata": {},
   "outputs": [
    {
     "name": "stderr",
     "output_type": "stream",
     "text": [
      "Joining, by = \"p107\"\n",
      "\n",
      "Joining, by = \"p108\"\n",
      "\n",
      "Joining, by = \"p109\"\n",
      "\n",
      "Joining, by = \"p110\"\n",
      "\n",
      "Joining, by = \"p111\"\n",
      "\n",
      "Joining, by = \"p111.1\"\n",
      "\n",
      "Joining, by = \"p112.1\"\n",
      "\n",
      "Joining, by = \"p112\"\n",
      "\n",
      "Joining, by = \"p113\"\n",
      "\n"
     ]
    }
   ],
   "source": [
    "for (i in 1:length(poss)){\n",
    "    colnames(phys)[1] = poss[i]\n",
    "    data = left_join(data, phys)\n",
    "    colnames(data)[(ncol(data)-2):ncol(data)] = paste(poss[i], colnames(data)[(ncol(data)-2):ncol(data)], sep=\".\")\n",
    "}"
   ]
  },
  {
   "cell_type": "code",
   "execution_count": 45,
   "id": "43285b23",
   "metadata": {},
   "outputs": [
    {
     "data": {
      "text/html": [
       "<table class=\"dataframe\">\n",
       "<caption>A data.frame: 6 × 28</caption>\n",
       "<thead>\n",
       "\t<tr><th></th><th scope=col>sequence</th><th scope=col>p107.pI</th><th scope=col>p107.IFH</th><th scope=col>p107.volume</th><th scope=col>p108.pI</th><th scope=col>p108.IFH</th><th scope=col>p108.volume</th><th scope=col>p109.pI</th><th scope=col>p109.IFH</th><th scope=col>p109.volume</th><th scope=col>⋯</th><th scope=col>p111.1.volume</th><th scope=col>p112.1.pI</th><th scope=col>p112.1.IFH</th><th scope=col>p112.1.volume</th><th scope=col>p112.pI</th><th scope=col>p112.IFH</th><th scope=col>p112.volume</th><th scope=col>p113.pI</th><th scope=col>p113.IFH</th><th scope=col>p113.volume</th></tr>\n",
       "\t<tr><th></th><th scope=col>&lt;chr&gt;</th><th scope=col>&lt;dbl&gt;</th><th scope=col>&lt;dbl&gt;</th><th scope=col>&lt;dbl&gt;</th><th scope=col>&lt;dbl&gt;</th><th scope=col>&lt;dbl&gt;</th><th scope=col>&lt;dbl&gt;</th><th scope=col>&lt;dbl&gt;</th><th scope=col>&lt;dbl&gt;</th><th scope=col>&lt;dbl&gt;</th><th scope=col>⋯</th><th scope=col>&lt;dbl&gt;</th><th scope=col>&lt;dbl&gt;</th><th scope=col>&lt;dbl&gt;</th><th scope=col>&lt;dbl&gt;</th><th scope=col>&lt;dbl&gt;</th><th scope=col>&lt;dbl&gt;</th><th scope=col>&lt;dbl&gt;</th><th scope=col>&lt;dbl&gt;</th><th scope=col>&lt;dbl&gt;</th><th scope=col>&lt;dbl&gt;</th></tr>\n",
       "</thead>\n",
       "<tbody>\n",
       "\t<tr><th scope=row>1</th><td>CASSVQRGLTDTQYF </td><td>5.68</td><td>-0.13</td><td>89</td><td>5.96</td><td>-0.07</td><td>140.0</td><td> 5.65</td><td>-0.58</td><td>143.8</td><td>⋯</td><td>NA</td><td>  NA</td><td>   NA</td><td>  NA</td><td> 5.98</td><td> 0.56</td><td>166.7</td><td>5.60</td><td>-0.14</td><td>116.1</td></tr>\n",
       "\t<tr><th scope=row>2</th><td>CASSQVAGGHTGELFF</td><td>5.68</td><td>-0.13</td><td>89</td><td>5.65</td><td>-0.58</td><td>143.8</td><td> 5.96</td><td>-0.07</td><td>140.0</td><td>⋯</td><td>NA</td><td>5.97</td><td>-0.01</td><td>60.1</td><td> 7.59</td><td>-0.96</td><td>153.2</td><td>5.60</td><td>-0.14</td><td>116.1</td></tr>\n",
       "\t<tr><th scope=row>3</th><td>CASSLGARNYGYTF  </td><td>5.68</td><td>-0.13</td><td>89</td><td>5.98</td><td> 0.56</td><td>166.7</td><td> 5.97</td><td>-0.01</td><td> 60.1</td><td>⋯</td><td>NA</td><td>  NA</td><td>   NA</td><td>  NA</td><td>10.76</td><td>-0.81</td><td>173.4</td><td>5.41</td><td>-0.42</td><td>114.1</td></tr>\n",
       "\t<tr><th scope=row>4</th><td>CASSLGNTGELFF   </td><td>5.68</td><td>-0.13</td><td>89</td><td>5.98</td><td> 0.56</td><td>166.7</td><td> 5.97</td><td>-0.01</td><td> 60.1</td><td>⋯</td><td>NA</td><td>  NA</td><td>   NA</td><td>  NA</td><td>   NA</td><td>   NA</td><td>   NA</td><td>5.60</td><td>-0.14</td><td>116.1</td></tr>\n",
       "\t<tr><th scope=row>5</th><td>CASSYSGLGETQYF  </td><td>5.68</td><td>-0.13</td><td>89</td><td>5.66</td><td> 0.94</td><td>193.6</td><td> 5.68</td><td>-0.13</td><td> 89.0</td><td>⋯</td><td>NA</td><td>  NA</td><td>   NA</td><td>  NA</td><td> 5.98</td><td> 0.56</td><td>166.7</td><td>5.97</td><td>-0.01</td><td> 60.1</td></tr>\n",
       "\t<tr><th scope=row>6</th><td>CASSYRGGANVLTF  </td><td>5.68</td><td>-0.13</td><td>89</td><td>5.66</td><td> 0.94</td><td>193.6</td><td>10.76</td><td>-0.81</td><td>173.4</td><td>⋯</td><td>NA</td><td>  NA</td><td>   NA</td><td>  NA</td><td> 5.97</td><td>-0.01</td><td> 60.1</td><td>6.00</td><td>-0.17</td><td> 88.6</td></tr>\n",
       "</tbody>\n",
       "</table>\n"
      ],
      "text/latex": [
       "A data.frame: 6 × 28\n",
       "\\begin{tabular}{r|lllllllllllllllllllll}\n",
       "  & sequence & p107.pI & p107.IFH & p107.volume & p108.pI & p108.IFH & p108.volume & p109.pI & p109.IFH & p109.volume & ⋯ & p111.1.volume & p112.1.pI & p112.1.IFH & p112.1.volume & p112.pI & p112.IFH & p112.volume & p113.pI & p113.IFH & p113.volume\\\\\n",
       "  & <chr> & <dbl> & <dbl> & <dbl> & <dbl> & <dbl> & <dbl> & <dbl> & <dbl> & <dbl> & ⋯ & <dbl> & <dbl> & <dbl> & <dbl> & <dbl> & <dbl> & <dbl> & <dbl> & <dbl> & <dbl>\\\\\n",
       "\\hline\n",
       "\t1 & CASSVQRGLTDTQYF  & 5.68 & -0.13 & 89 & 5.96 & -0.07 & 140.0 &  5.65 & -0.58 & 143.8 & ⋯ & NA &   NA &    NA &   NA &  5.98 &  0.56 & 166.7 & 5.60 & -0.14 & 116.1\\\\\n",
       "\t2 & CASSQVAGGHTGELFF & 5.68 & -0.13 & 89 & 5.65 & -0.58 & 143.8 &  5.96 & -0.07 & 140.0 & ⋯ & NA & 5.97 & -0.01 & 60.1 &  7.59 & -0.96 & 153.2 & 5.60 & -0.14 & 116.1\\\\\n",
       "\t3 & CASSLGARNYGYTF   & 5.68 & -0.13 & 89 & 5.98 &  0.56 & 166.7 &  5.97 & -0.01 &  60.1 & ⋯ & NA &   NA &    NA &   NA & 10.76 & -0.81 & 173.4 & 5.41 & -0.42 & 114.1\\\\\n",
       "\t4 & CASSLGNTGELFF    & 5.68 & -0.13 & 89 & 5.98 &  0.56 & 166.7 &  5.97 & -0.01 &  60.1 & ⋯ & NA &   NA &    NA &   NA &    NA &    NA &    NA & 5.60 & -0.14 & 116.1\\\\\n",
       "\t5 & CASSYSGLGETQYF   & 5.68 & -0.13 & 89 & 5.66 &  0.94 & 193.6 &  5.68 & -0.13 &  89.0 & ⋯ & NA &   NA &    NA &   NA &  5.98 &  0.56 & 166.7 & 5.97 & -0.01 &  60.1\\\\\n",
       "\t6 & CASSYRGGANVLTF   & 5.68 & -0.13 & 89 & 5.66 &  0.94 & 193.6 & 10.76 & -0.81 & 173.4 & ⋯ & NA &   NA &    NA &   NA &  5.97 & -0.01 &  60.1 & 6.00 & -0.17 &  88.6\\\\\n",
       "\\end{tabular}\n"
      ],
      "text/markdown": [
       "\n",
       "A data.frame: 6 × 28\n",
       "\n",
       "| <!--/--> | sequence &lt;chr&gt; | p107.pI &lt;dbl&gt; | p107.IFH &lt;dbl&gt; | p107.volume &lt;dbl&gt; | p108.pI &lt;dbl&gt; | p108.IFH &lt;dbl&gt; | p108.volume &lt;dbl&gt; | p109.pI &lt;dbl&gt; | p109.IFH &lt;dbl&gt; | p109.volume &lt;dbl&gt; | ⋯ ⋯ | p111.1.volume &lt;dbl&gt; | p112.1.pI &lt;dbl&gt; | p112.1.IFH &lt;dbl&gt; | p112.1.volume &lt;dbl&gt; | p112.pI &lt;dbl&gt; | p112.IFH &lt;dbl&gt; | p112.volume &lt;dbl&gt; | p113.pI &lt;dbl&gt; | p113.IFH &lt;dbl&gt; | p113.volume &lt;dbl&gt; |\n",
       "|---|---|---|---|---|---|---|---|---|---|---|---|---|---|---|---|---|---|---|---|---|---|\n",
       "| 1 | CASSVQRGLTDTQYF  | 5.68 | -0.13 | 89 | 5.96 | -0.07 | 140.0 |  5.65 | -0.58 | 143.8 | ⋯ | NA |   NA |    NA |   NA |  5.98 |  0.56 | 166.7 | 5.60 | -0.14 | 116.1 |\n",
       "| 2 | CASSQVAGGHTGELFF | 5.68 | -0.13 | 89 | 5.65 | -0.58 | 143.8 |  5.96 | -0.07 | 140.0 | ⋯ | NA | 5.97 | -0.01 | 60.1 |  7.59 | -0.96 | 153.2 | 5.60 | -0.14 | 116.1 |\n",
       "| 3 | CASSLGARNYGYTF   | 5.68 | -0.13 | 89 | 5.98 |  0.56 | 166.7 |  5.97 | -0.01 |  60.1 | ⋯ | NA |   NA |    NA |   NA | 10.76 | -0.81 | 173.4 | 5.41 | -0.42 | 114.1 |\n",
       "| 4 | CASSLGNTGELFF    | 5.68 | -0.13 | 89 | 5.98 |  0.56 | 166.7 |  5.97 | -0.01 |  60.1 | ⋯ | NA |   NA |    NA |   NA |    NA |    NA |    NA | 5.60 | -0.14 | 116.1 |\n",
       "| 5 | CASSYSGLGETQYF   | 5.68 | -0.13 | 89 | 5.66 |  0.94 | 193.6 |  5.68 | -0.13 |  89.0 | ⋯ | NA |   NA |    NA |   NA |  5.98 |  0.56 | 166.7 | 5.97 | -0.01 |  60.1 |\n",
       "| 6 | CASSYRGGANVLTF   | 5.68 | -0.13 | 89 | 5.66 |  0.94 | 193.6 | 10.76 | -0.81 | 173.4 | ⋯ | NA |   NA |    NA |   NA |  5.97 | -0.01 |  60.1 | 6.00 | -0.17 |  88.6 |\n",
       "\n"
      ],
      "text/plain": [
       "  sequence         p107.pI p107.IFH p107.volume p108.pI p108.IFH p108.volume\n",
       "1 CASSVQRGLTDTQYF  5.68    -0.13    89          5.96    -0.07    140.0      \n",
       "2 CASSQVAGGHTGELFF 5.68    -0.13    89          5.65    -0.58    143.8      \n",
       "3 CASSLGARNYGYTF   5.68    -0.13    89          5.98     0.56    166.7      \n",
       "4 CASSLGNTGELFF    5.68    -0.13    89          5.98     0.56    166.7      \n",
       "5 CASSYSGLGETQYF   5.68    -0.13    89          5.66     0.94    193.6      \n",
       "6 CASSYRGGANVLTF   5.68    -0.13    89          5.66     0.94    193.6      \n",
       "  p109.pI p109.IFH p109.volume ⋯ p111.1.volume p112.1.pI p112.1.IFH\n",
       "1  5.65   -0.58    143.8       ⋯ NA              NA         NA     \n",
       "2  5.96   -0.07    140.0       ⋯ NA            5.97      -0.01     \n",
       "3  5.97   -0.01     60.1       ⋯ NA              NA         NA     \n",
       "4  5.97   -0.01     60.1       ⋯ NA              NA         NA     \n",
       "5  5.68   -0.13     89.0       ⋯ NA              NA         NA     \n",
       "6 10.76   -0.81    173.4       ⋯ NA              NA         NA     \n",
       "  p112.1.volume p112.pI p112.IFH p112.volume p113.pI p113.IFH p113.volume\n",
       "1   NA           5.98    0.56    166.7       5.60    -0.14    116.1      \n",
       "2 60.1           7.59   -0.96    153.2       5.60    -0.14    116.1      \n",
       "3   NA          10.76   -0.81    173.4       5.41    -0.42    114.1      \n",
       "4   NA             NA      NA       NA       5.60    -0.14    116.1      \n",
       "5   NA           5.98    0.56    166.7       5.97    -0.01     60.1      \n",
       "6   NA           5.97   -0.01     60.1       6.00    -0.17     88.6      "
      ]
     },
     "metadata": {},
     "output_type": "display_data"
    }
   ],
   "source": [
    "phys_data = data[,c(\"sequence\", colnames(data)[(ncol(data)-26):ncol(data)])]\n",
    "head(phys_data)"
   ]
  },
  {
   "cell_type": "markdown",
   "id": "97bea2aa",
   "metadata": {},
   "source": [
    "hydrophobicity : Wimley, W. C. & White, S. H. Experimentally determined hydrophobicity scale for proteins at membrane interfaces. Nat. Struct. Biol. 3, 842–848 (1996).\n",
    "\n",
    "pI: Hdbk of chemistry & physics 72nd edition. (CRC Press, 1991).\n",
    "\n",
    "volume: Zamyatnin, A. A. Protein volume in solution. Prog. Biophys. Mol. Biol. 24, 107–123 (1972)."
   ]
  }
 ],
 "metadata": {
  "kernelspec": {
   "display_name": "R",
   "language": "R",
   "name": "ir"
  },
  "language_info": {
   "codemirror_mode": "r",
   "file_extension": ".r",
   "mimetype": "text/x-r-source",
   "name": "R",
   "pygments_lexer": "r",
   "version": "4.1.2"
  }
 },
 "nbformat": 4,
 "nbformat_minor": 5
}
