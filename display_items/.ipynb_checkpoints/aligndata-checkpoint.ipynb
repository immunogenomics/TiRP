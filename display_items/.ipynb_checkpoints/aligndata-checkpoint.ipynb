{
 "cells": [
  {
   "cell_type": "code",
   "execution_count": 1,
   "id": "dbb269de-05f1-4f09-8a91-4a0a38b5f7b7",
   "metadata": {},
   "outputs": [
    {
     "name": "stderr",
     "output_type": "stream",
     "text": [
      "Loading required package: Matrix\n",
      "\n",
      "Loaded glmnet 4.1-3\n",
      "\n",
      "Loading required package: Rcpp\n",
      "\n",
      "Attaching SeuratObject\n",
      "\n",
      "\n",
      "Attaching package: ‘dplyr’\n",
      "\n",
      "\n",
      "The following objects are masked from ‘package:stats’:\n",
      "\n",
      "    filter, lag\n",
      "\n",
      "\n",
      "The following objects are masked from ‘package:base’:\n",
      "\n",
      "    intersect, setdiff, setequal, union\n",
      "\n",
      "\n"
     ]
    }
   ],
   "source": [
    "source(\"/PHShome/kl162/TiRP_github/utils.R\")"
   ]
  },
  {
   "cell_type": "code",
   "execution_count": 2,
   "id": "93ff7f8e-f7e7-4761-9ee1-e894398fc5e5",
   "metadata": {},
   "outputs": [
    {
     "name": "stdout",
     "output_type": "stream",
     "text": [
      "[1] \"all\"\n"
     ]
    }
   ],
   "source": [
    "print(load(\"/panfs/pan01/hpc/groups/srlab2/klagattuta/seay/seay_data.rds\"))"
   ]
  },
  {
   "cell_type": "code",
   "execution_count": 3,
   "id": "ea4fd0c9-02fe-4bba-b373-a48f557799a2",
   "metadata": {},
   "outputs": [
    {
     "data": {
      "text/html": [
       "<table class=\"dataframe\">\n",
       "<caption>A data.frame: 6 × 9</caption>\n",
       "<thead>\n",
       "\t<tr><th></th><th scope=col>cell_state</th><th scope=col>donor</th><th scope=col>pheno</th><th scope=col>site</th><th scope=col>locus</th><th scope=col>sequence</th><th scope=col>frame_type</th><th scope=col>vgene</th><th scope=col>jgene</th></tr>\n",
       "\t<tr><th></th><th scope=col>&lt;fct&gt;</th><th scope=col>&lt;fct&gt;</th><th scope=col>&lt;fct&gt;</th><th scope=col>&lt;fct&gt;</th><th scope=col>&lt;fct&gt;</th><th scope=col>&lt;fct&gt;</th><th scope=col>&lt;fct&gt;</th><th scope=col>&lt;fct&gt;</th><th scope=col>&lt;fct&gt;</th></tr>\n",
       "</thead>\n",
       "<tbody>\n",
       "\t<tr><th scope=row>1</th><td>CD4+</td><td>6323</td><td>T1D</td><td>intra-islet</td><td>TCRB</td><td>CASSQDRGSNQPQHF</td><td>In </td><td>TCRBV05-03</td><td>TCRBJ01-05</td></tr>\n",
       "\t<tr><th scope=row>2</th><td>CD4+</td><td>6323</td><td>T1D</td><td>intra-islet</td><td>TCRB</td><td>CARSPKVQYTF    </td><td>In </td><td>TCRBV05-03</td><td>TCRBJ01-02</td></tr>\n",
       "\t<tr><th scope=row>3</th><td>CD4+</td><td>6323</td><td>T1D</td><td>intra-islet</td><td>TCRB</td><td>CASSLVGQNYGYTF </td><td>In </td><td>TCRBV05-03</td><td>TCRBJ01-02</td></tr>\n",
       "\t<tr><th scope=row>4</th><td>CD4+</td><td>6323</td><td>T1D</td><td>intra-islet</td><td>TCRB</td><td>               </td><td>Out</td><td>TCRBV05-03</td><td>TCRBJ01-02</td></tr>\n",
       "\t<tr><th scope=row>5</th><td>CD4+</td><td>6323</td><td>T1D</td><td>intra-islet</td><td>TCRB</td><td>CARRVRKTYGYTF  </td><td>In </td><td>TCRBV05-03</td><td>TCRBJ01-02</td></tr>\n",
       "\t<tr><th scope=row>6</th><td>CD4+</td><td>6323</td><td>T1D</td><td>intra-islet</td><td>TCRB</td><td>CARSPKVQYTF    </td><td>In </td><td>TCRBV05-03</td><td>TCRBJ01-02</td></tr>\n",
       "</tbody>\n",
       "</table>\n"
      ],
      "text/latex": [
       "A data.frame: 6 × 9\n",
       "\\begin{tabular}{r|lllllllll}\n",
       "  & cell\\_state & donor & pheno & site & locus & sequence & frame\\_type & vgene & jgene\\\\\n",
       "  & <fct> & <fct> & <fct> & <fct> & <fct> & <fct> & <fct> & <fct> & <fct>\\\\\n",
       "\\hline\n",
       "\t1 & CD4+ & 6323 & T1D & intra-islet & TCRB & CASSQDRGSNQPQHF & In  & TCRBV05-03 & TCRBJ01-05\\\\\n",
       "\t2 & CD4+ & 6323 & T1D & intra-islet & TCRB & CARSPKVQYTF     & In  & TCRBV05-03 & TCRBJ01-02\\\\\n",
       "\t3 & CD4+ & 6323 & T1D & intra-islet & TCRB & CASSLVGQNYGYTF  & In  & TCRBV05-03 & TCRBJ01-02\\\\\n",
       "\t4 & CD4+ & 6323 & T1D & intra-islet & TCRB &                 & Out & TCRBV05-03 & TCRBJ01-02\\\\\n",
       "\t5 & CD4+ & 6323 & T1D & intra-islet & TCRB & CARRVRKTYGYTF   & In  & TCRBV05-03 & TCRBJ01-02\\\\\n",
       "\t6 & CD4+ & 6323 & T1D & intra-islet & TCRB & CARSPKVQYTF     & In  & TCRBV05-03 & TCRBJ01-02\\\\\n",
       "\\end{tabular}\n"
      ],
      "text/markdown": [
       "\n",
       "A data.frame: 6 × 9\n",
       "\n",
       "| <!--/--> | cell_state &lt;fct&gt; | donor &lt;fct&gt; | pheno &lt;fct&gt; | site &lt;fct&gt; | locus &lt;fct&gt; | sequence &lt;fct&gt; | frame_type &lt;fct&gt; | vgene &lt;fct&gt; | jgene &lt;fct&gt; |\n",
       "|---|---|---|---|---|---|---|---|---|---|\n",
       "| 1 | CD4+ | 6323 | T1D | intra-islet | TCRB | CASSQDRGSNQPQHF | In  | TCRBV05-03 | TCRBJ01-05 |\n",
       "| 2 | CD4+ | 6323 | T1D | intra-islet | TCRB | CARSPKVQYTF     | In  | TCRBV05-03 | TCRBJ01-02 |\n",
       "| 3 | CD4+ | 6323 | T1D | intra-islet | TCRB | CASSLVGQNYGYTF  | In  | TCRBV05-03 | TCRBJ01-02 |\n",
       "| 4 | CD4+ | 6323 | T1D | intra-islet | TCRB | <!----> | Out | TCRBV05-03 | TCRBJ01-02 |\n",
       "| 5 | CD4+ | 6323 | T1D | intra-islet | TCRB | CARRVRKTYGYTF   | In  | TCRBV05-03 | TCRBJ01-02 |\n",
       "| 6 | CD4+ | 6323 | T1D | intra-islet | TCRB | CARSPKVQYTF     | In  | TCRBV05-03 | TCRBJ01-02 |\n",
       "\n"
      ],
      "text/plain": [
       "  cell_state donor pheno site        locus sequence        frame_type\n",
       "1 CD4+       6323  T1D   intra-islet TCRB  CASSQDRGSNQPQHF In        \n",
       "2 CD4+       6323  T1D   intra-islet TCRB  CARSPKVQYTF     In        \n",
       "3 CD4+       6323  T1D   intra-islet TCRB  CASSLVGQNYGYTF  In        \n",
       "4 CD4+       6323  T1D   intra-islet TCRB                  Out       \n",
       "5 CD4+       6323  T1D   intra-islet TCRB  CARRVRKTYGYTF   In        \n",
       "6 CD4+       6323  T1D   intra-islet TCRB  CARSPKVQYTF     In        \n",
       "  vgene      jgene     \n",
       "1 TCRBV05-03 TCRBJ01-05\n",
       "2 TCRBV05-03 TCRBJ01-02\n",
       "3 TCRBV05-03 TCRBJ01-02\n",
       "4 TCRBV05-03 TCRBJ01-02\n",
       "5 TCRBV05-03 TCRBJ01-02\n",
       "6 TCRBV05-03 TCRBJ01-02"
      ]
     },
     "metadata": {},
     "output_type": "display_data"
    }
   ],
   "source": [
    "head(all)"
   ]
  },
  {
   "cell_type": "code",
   "execution_count": 56,
   "id": "5c7cc9f8-5667-4c96-a126-1a76a4d82d40",
   "metadata": {},
   "outputs": [],
   "source": [
    "data = all[all$frame_type==\"In\",]\n",
    "data$sequence = as.character(data$sequence)\n",
    "data$length = sapply(data$sequence, function(x) nchar(x))\n",
    "data = data[data$length>=12 & data$length<=17,]"
   ]
  },
  {
   "cell_type": "code",
   "execution_count": 5,
   "id": "692b785e-45c0-43e7-b287-26811dfc908e",
   "metadata": {},
   "outputs": [
    {
     "data": {
      "text/plain": [
       "\n",
       "   CD4+    CD8+   Tconv    Treg  B_Cell  B_cell Tconv-a Tconv-b \n",
       "    479 1365692 2567266 1468807    1211     549   20143   10750 "
      ]
     },
     "metadata": {},
     "output_type": "display_data"
    },
    {
     "data": {
      "text/plain": [
       "\n",
       "  6323   6174   6254   6271   6278   6279   6282   6287   6288   6289   6161 \n",
       "116243 151071 187336 397650 314740 364370  24467  90606 223162 243304 143468 \n",
       "  6193   6195   6196   6207   6208   6211   6212   6220   6242   6243   6262 \n",
       "252205 111296  90681 587977 246381 197835 286119 125509 326445 243398 125043 \n",
       "  6263   6264   6265   6266   6285 \n",
       " 52887 119999 152100 111314 149291 "
      ]
     },
     "metadata": {},
     "output_type": "display_data"
    },
    {
     "data": {
      "text/plain": [
       "\n",
       "    T1D CONTROL \n",
       "3438191 1996706 "
      ]
     },
     "metadata": {},
     "output_type": "display_data"
    },
    {
     "data": {
      "text/plain": [
       "\n",
       "intra-islet        PBMC         PLN         SPL      Spleen         pLN \n",
       "        836      113479       51576         549     1481979     2971178 \n",
       "        iLN \n",
       "     815300 "
      ]
     },
     "metadata": {},
     "output_type": "display_data"
    },
    {
     "data": {
      "text/plain": [
       "\n",
       "  locus    TCRB \n",
       "      0 5434897 "
      ]
     },
     "metadata": {},
     "output_type": "display_data"
    }
   ],
   "source": [
    "table(data$cell_state)\n",
    "table(data$donor)\n",
    "table(data$pheno)\n",
    "table(data$site)\n",
    "table(data$locus)"
   ]
  },
  {
   "cell_type": "code",
   "execution_count": 57,
   "id": "7b0a7ff6-ba1a-48d0-9dc6-f6245af1ab3c",
   "metadata": {},
   "outputs": [],
   "source": [
    "data$cell_state[grepl(\"Tconv\", data$cell_state)] = \"Tconv\"\n",
    "data = data[data$cell_state %in% c(\"Tconv\", \"Treg\"),]"
   ]
  },
  {
   "cell_type": "code",
   "execution_count": 58,
   "id": "663ee4a3-5188-4506-8211-1a9232ab6e73",
   "metadata": {},
   "outputs": [],
   "source": [
    "data$site[data$site==\"PLN\"] = \"pLN\""
   ]
  },
  {
   "cell_type": "code",
   "execution_count": 24,
   "id": "5d5482d8-9ab7-4dd1-80dd-4b81f79c4549",
   "metadata": {},
   "outputs": [
    {
     "data": {
      "text/plain": [
       "      \n",
       "        Tconv   Treg\n",
       "  6323  37312  41254\n",
       "  6174      0  98705\n",
       "  6254  87488  45229\n",
       "  6271 181666 108787\n",
       "  6278 202489  21526\n",
       "  6279 165935 110012\n",
       "  6282  24467      0\n",
       "  6287  37633  18571\n",
       "  6288 101189  75744\n",
       "  6289 105795 100061\n",
       "  6161  58459  15437\n",
       "  6193 134732 102491\n",
       "  6195      0      0\n",
       "  6196  53325  37356\n",
       "  6207 321758 174203\n",
       "  6208 186227  60131\n",
       "  6211  91025  57642\n",
       "  6212 145555  58547\n",
       "  6220  20032 101814\n",
       "  6242 173391  92702\n",
       "  6243 135704  22825\n",
       "  6262  46876  27991\n",
       "  6263  34972   5543\n",
       "  6264  57752  11730\n",
       "  6265  52787  26736\n",
       "  6266  54312  28189\n",
       "  6285  87278  25581"
      ]
     },
     "metadata": {},
     "output_type": "display_data"
    }
   ],
   "source": [
    "table(data$donor, as.character(data$cell_state))"
   ]
  },
  {
   "cell_type": "code",
   "execution_count": 59,
   "id": "7df96dd4-3168-4920-8174-2ced16a31054",
   "metadata": {},
   "outputs": [],
   "source": [
    "##removing donors without both Tregs and Tconvs\n",
    "data = data[!(data$donor %in% c(\"6174\", \"6282\")),]\n",
    "##holding out observations for validation\n",
    "data = data[!(data$donor %in% c(\"6193\", \"6207\", \"6196\", \"6161\", \"6287\", \"6279\")),]"
   ]
  },
  {
   "cell_type": "code",
   "execution_count": 87,
   "id": "4b526a07-93aa-4810-b234-b6fb8512e0af",
   "metadata": {},
   "outputs": [
    {
     "data": {
      "image/png": "[encoded data removed]",
      "text/plain": [
       "plot without title"
      ]
     },
     "metadata": {
      "image/png": {
       "height": 180,
       "width": 360
      }
     },
     "output_type": "display_data"
    }
   ],
   "source": [
    "options(repr.plot.width=6, repr.plot.height=3)\n",
    "ggseqlogo(data$sequence[data$length==\"15\"], seq_type='aa', col_scheme=amino_color_scheme(), method='prob') "
   ]
  },
  {
   "cell_type": "code",
   "execution_count": 66,
   "id": "0e067818-a8cd-4ecf-ada7-f3ca30a44d90",
   "metadata": {},
   "outputs": [],
   "source": [
    "data <- add_positionalAA()"
   ]
  },
  {
   "cell_type": "code",
   "execution_count": 77,
   "id": "9ea334f9-22a3-4c56-8acd-6a5fa16c7e0f",
   "metadata": {},
   "outputs": [],
   "source": [
    "saveRDS(data, \"../data/seay_discovery.rds\")"
   ]
  },
  {
   "cell_type": "code",
   "execution_count": 1,
   "id": "b1182798-f1e6-44a6-8b3c-9304de30b0a8",
   "metadata": {},
   "outputs": [],
   "source": [
    "data <- readRDS(\"../data/seay_discovery.rds\")"
   ]
  },
  {
   "cell_type": "code",
   "execution_count": 3,
   "id": "2180b96c-0a6b-44a0-8fa5-923adb58a29b",
   "metadata": {},
   "outputs": [
    {
     "data": {
      "text/html": [
       "2713882"
      ],
      "text/latex": [
       "2713882"
      ],
      "text/markdown": [
       "2713882"
      ],
      "text/plain": [
       "[1] 2713882"
      ]
     },
     "metadata": {},
     "output_type": "display_data"
    }
   ],
   "source": [
    "nrow(data)"
   ]
  },
  {
   "cell_type": "code",
   "execution_count": 80,
   "id": "6c2c6c35-b093-48c4-85a3-b813b18dd265",
   "metadata": {},
   "outputs": [
    {
     "data": {
      "image/png": "[encoded data removed]",
      "text/plain": [
       "plot without title"
      ]
     },
     "metadata": {
      "image/png": {
       "height": 480,
       "width": 480
      }
     },
     "output_type": "display_data"
    }
   ],
   "source": [
    "##basic 15 version\n",
    "options(repr.plot.width=5, repr.plot.height=5)\n",
    "mutinf_heatmap(15)"
   ]
  }
 ],
 "metadata": {
  "kernelspec": {
   "display_name": "R",
   "language": "R",
   "name": "ir"
  },
  "language_info": {
   "codemirror_mode": "r",
   "file_extension": ".r",
   "mimetype": "text/x-r-source",
   "name": "R",
   "pygments_lexer": "r",
   "version": "4.1.1"
  }
 },
 "nbformat": 4,
 "nbformat_minor": 5
}
