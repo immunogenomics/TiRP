{
 "cells": [
  {
   "cell_type": "markdown",
   "id": "b01398fe-b48b-4ca2-8cee-3e92d29db8cb",
   "metadata": {},
   "source": [
    "## Extended Data Figure 8"
   ]
  },
  {
   "cell_type": "code",
   "execution_count": 1,
   "id": "cbff2811-3d96-4e57-8ebd-624e3a5cd8b2",
   "metadata": {},
   "outputs": [],
   "source": [
    "##loading TiRP utility functions:\n",
    "source(\"../utils.R\")"
   ]
  },
  {
   "cell_type": "code",
   "execution_count": null,
   "id": "bb0c2d2b-eb26-4664-b06f-f2b857ee1cb9",
   "metadata": {},
   "outputs": [],
   "source": []
  }
 ],
 "metadata": {
  "kernelspec": {
   "display_name": "R",
   "language": "R",
   "name": "ir"
  },
  "language_info": {
   "codemirror_mode": "r",
   "file_extension": ".r",
   "mimetype": "text/x-r-source",
   "name": "R",
   "pygments_lexer": "r",
   "version": "4.1.1"
  }
 },
 "nbformat": 4,
 "nbformat_minor": 5
}
