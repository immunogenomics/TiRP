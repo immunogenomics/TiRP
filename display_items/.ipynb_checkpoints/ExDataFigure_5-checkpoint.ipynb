{
 "cells": [
  {
   "cell_type": "code",
   "execution_count": null,
   "id": "1d657c6b-175f-459e-9ddb-67ac3ab45e13",
   "metadata": {},
   "outputs": [],
   "source": [
    "paste(path_to_results, \"TCRfeat_effectsizes/physiochemical_features/seay2016/ridge_regularized\", sep=\"/\")"
   ]
  },
  {
   "cell_type": "code",
   "execution_count": null,
   "id": "7fb6e8d1-b1e8-4132-84a3-16884b03070e",
   "metadata": {},
   "outputs": [],
   "source": [
    "setwd(paste(path_to_results, \"TCRfeat_effectsizes/physicochemical_features/seay2016/ridge_regularized\", sep=\"/\"))\n",
    "files = list.files()\n",
    "files = files[!(grepl(\"png\", files))]\n",
    "all = data.frame(matrix(nrow=0, ncol=4))\n",
    "colnames(all) = c(\"length\", \"imgt_pos\", \"feature\", \"estimate\")\n",
    "for (i in 1:length(files)){\n",
    "  res = readRDS(files[i])\n",
    "  res$length = strsplit(files[i], \"_\")[[1]][1]\n",
    "  res$imgt_pos = sapply(res$term, function(x) strsplit(x, \"_\")[[1]][1])\n",
    "  res$feature = sapply(res$term, function(x) strsplit(x, \"_\")[[1]][2])\n",
    "  all = rbind(all, res[,colnames(all)])\n",
    "}\n",
    "all = all[all$feature %in% c(\"volume\", \"pI\", \"hydrophob\"),]\n",
    "all$feature = as.character(all$feature)\n",
    "all$feature[all$feature==\"hydrophob\"] = \"hydrophobicity\"\n",
    "all$feature[all$feature==\"pI\"] = \"isoelectric point\"\n",
    "all$imgt_pos = as.character(all$imgt_pos)\n",
    "all$imgt_pos = factor(all$imgt_pos, levels=c(\"p27\", \"p28\", \"p29\", \"p37\", \"p38\", \"p56\", \"p57\", \"p58\", \"p63\", \"p64\", \"p65\", \"p104\", \"p105\", \"p106\", \"p107\", \"p108\", \"p109\", \"p110\", \"p111\", \"p111.1\", \"p112.1\", \"p112\", \"p113\", \"p114\", \"p115\", \"p116\", \"p117\", \"p118\"))\n",
    "\n",
    "g = ggplot(all, aes(imgt_pos, estimate, shape=length, color=feature))\n",
    "g = g + geom_point(size=0.5) + geom_line(aes(group=length), size=0.2) + facet_wrap(~feature, ncol=1) + theme_classic() + geom_hline(yintercept=0)\n",
    "g = g + theme(axis.text.x = element_text(angle = 45, vjust = 1, hjust=1)) + scale_color_manual(values=c(\"#eead0c\", \"#ed6a51\", \"#02868a\"))\n",
    "g + xlab(\"TCR position\") + ylab(\"coefficient for Treg prediction\")"
   ]
  },
  {
   "cell_type": "code",
   "execution_count": 2,
   "id": "06c06d83-5e71-419a-8a3c-c2b31cef633c",
   "metadata": {},
   "outputs": [],
   "source": [
    "setwd(\"~/TiRP_github/results/TCRfeat_effectsizes/physicochemical_features/seay2016/unregularized_midregion\")"
   ]
  },
  {
   "cell_type": "code",
   "execution_count": 3,
   "id": "26d51075-8543-4100-820f-c9c87d264a09",
   "metadata": {},
   "outputs": [],
   "source": [
    "files = list.files()\n",
    "files = files[!(grepl(\"aggregated\", files))]"
   ]
  },
  {
   "cell_type": "code",
   "execution_count": 6,
   "id": "99b0fd48-d5c6-40f9-8360-48c7615bec48",
   "metadata": {},
   "outputs": [],
   "source": [
    "length = vector(mode=\"character\")\n",
    "pos = vector(mode=\"character\")\n",
    "beta = vector(mode=\"numeric\")\n",
    "se = vector(mode=\"numeric\")\n",
    "p = vector(mode=\"numeric\")\n",
    "feat = vector(mode=\"character\")\n",
    "c = 1"
   ]
  },
  {
   "cell_type": "code",
   "execution_count": 7,
   "id": "8dc0a585-c0c1-4c22-9b48-af125d0a608b",
   "metadata": {},
   "outputs": [],
   "source": [
    "for (i in 1:length(files)){\n",
    "    res = readRDS(files[i])\n",
    "    info = strsplit(files[i], \"_\")[[1]]\n",
    "    for (j in 2:(nrow(res)-3)){\n",
    "        length[c] = info[1]\n",
    "        pos[c] = info[2]\n",
    "        beta[c] = res$estimate[j]\n",
    "        p[c] = res$p.value[j]\n",
    "        se[c] = res$std.error[j]\n",
    "        feat[c] = res$term[j]\n",
    "        c = c + 1\n",
    "    }\n",
    "}"
   ]
  },
  {
   "cell_type": "code",
   "execution_count": 8,
   "id": "89fc4640-a187-41d0-8a83-642f43d1f3ca",
   "metadata": {},
   "outputs": [
    {
     "data": {
      "text/html": [
       "<table class=\"dataframe\">\n",
       "<caption>A data.frame: 6 × 6</caption>\n",
       "<thead>\n",
       "\t<tr><th></th><th scope=col>length</th><th scope=col>feat</th><th scope=col>pos</th><th scope=col>beta</th><th scope=col>se</th><th scope=col>p</th></tr>\n",
       "\t<tr><th></th><th scope=col>&lt;chr&gt;</th><th scope=col>&lt;chr&gt;</th><th scope=col>&lt;chr&gt;</th><th scope=col>&lt;dbl&gt;</th><th scope=col>&lt;dbl&gt;</th><th scope=col>&lt;dbl&gt;</th></tr>\n",
       "</thead>\n",
       "<tbody>\n",
       "\t<tr><th scope=row>1</th><td>12</td><td>hydrophob</td><td>p108</td><td> 0.039315883</td><td>0.005662435</td><td>3.830919e-12</td></tr>\n",
       "\t<tr><th scope=row>2</th><td>12</td><td>pI       </td><td>p108</td><td> 0.032520784</td><td>0.005756412</td><td>1.609261e-08</td></tr>\n",
       "\t<tr><th scope=row>3</th><td>12</td><td>volume   </td><td>p108</td><td>-0.019176042</td><td>0.005884203</td><td>1.118443e-03</td></tr>\n",
       "\t<tr><th scope=row>4</th><td>12</td><td>hydrophob</td><td>p109</td><td> 0.048748242</td><td>0.005494308</td><td>7.152281e-19</td></tr>\n",
       "\t<tr><th scope=row>5</th><td>12</td><td>pI       </td><td>p109</td><td> 0.034977936</td><td>0.005832423</td><td>2.008059e-09</td></tr>\n",
       "\t<tr><th scope=row>6</th><td>12</td><td>volume   </td><td>p109</td><td>-0.006574849</td><td>0.005769591</td><td>2.544657e-01</td></tr>\n",
       "</tbody>\n",
       "</table>\n"
      ],
      "text/latex": [
       "A data.frame: 6 × 6\n",
       "\\begin{tabular}{r|llllll}\n",
       "  & length & feat & pos & beta & se & p\\\\\n",
       "  & <chr> & <chr> & <chr> & <dbl> & <dbl> & <dbl>\\\\\n",
       "\\hline\n",
       "\t1 & 12 & hydrophob & p108 &  0.039315883 & 0.005662435 & 3.830919e-12\\\\\n",
       "\t2 & 12 & pI        & p108 &  0.032520784 & 0.005756412 & 1.609261e-08\\\\\n",
       "\t3 & 12 & volume    & p108 & -0.019176042 & 0.005884203 & 1.118443e-03\\\\\n",
       "\t4 & 12 & hydrophob & p109 &  0.048748242 & 0.005494308 & 7.152281e-19\\\\\n",
       "\t5 & 12 & pI        & p109 &  0.034977936 & 0.005832423 & 2.008059e-09\\\\\n",
       "\t6 & 12 & volume    & p109 & -0.006574849 & 0.005769591 & 2.544657e-01\\\\\n",
       "\\end{tabular}\n"
      ],
      "text/markdown": [
       "\n",
       "A data.frame: 6 × 6\n",
       "\n",
       "| <!--/--> | length &lt;chr&gt; | feat &lt;chr&gt; | pos &lt;chr&gt; | beta &lt;dbl&gt; | se &lt;dbl&gt; | p &lt;dbl&gt; |\n",
       "|---|---|---|---|---|---|---|\n",
       "| 1 | 12 | hydrophob | p108 |  0.039315883 | 0.005662435 | 3.830919e-12 |\n",
       "| 2 | 12 | pI        | p108 |  0.032520784 | 0.005756412 | 1.609261e-08 |\n",
       "| 3 | 12 | volume    | p108 | -0.019176042 | 0.005884203 | 1.118443e-03 |\n",
       "| 4 | 12 | hydrophob | p109 |  0.048748242 | 0.005494308 | 7.152281e-19 |\n",
       "| 5 | 12 | pI        | p109 |  0.034977936 | 0.005832423 | 2.008059e-09 |\n",
       "| 6 | 12 | volume    | p109 | -0.006574849 | 0.005769591 | 2.544657e-01 |\n",
       "\n"
      ],
      "text/plain": [
       "  length feat      pos  beta         se          p           \n",
       "1 12     hydrophob p108  0.039315883 0.005662435 3.830919e-12\n",
       "2 12     pI        p108  0.032520784 0.005756412 1.609261e-08\n",
       "3 12     volume    p108 -0.019176042 0.005884203 1.118443e-03\n",
       "4 12     hydrophob p109  0.048748242 0.005494308 7.152281e-19\n",
       "5 12     pI        p109  0.034977936 0.005832423 2.008059e-09\n",
       "6 12     volume    p109 -0.006574849 0.005769591 2.544657e-01"
      ]
     },
     "metadata": {},
     "output_type": "display_data"
    }
   ],
   "source": [
    "df = data.frame(length, feat, pos, beta, se, p)\n",
    "head(df)"
   ]
  },
  {
   "cell_type": "code",
   "execution_count": 9,
   "id": "38b128de-b553-4689-83ab-eb0e475266af",
   "metadata": {},
   "outputs": [],
   "source": [
    "saveRDS(df, \"seay2016_physicochemMR_aggregated.rds\")"
   ]
  },
  {
   "cell_type": "code",
   "execution_count": null,
   "id": "ac24d1c0-a909-4950-94c5-28baa35eb682",
   "metadata": {},
   "outputs": [],
   "source": []
  }
 ],
 "metadata": {
  "kernelspec": {
   "display_name": "R",
   "language": "R",
   "name": "ir"
  },
  "language_info": {
   "codemirror_mode": "r",
   "file_extension": ".r",
   "mimetype": "text/x-r-source",
   "name": "R",
   "pygments_lexer": "r",
   "version": "4.1.1"
  }
 },
 "nbformat": 4,
 "nbformat_minor": 5
}
