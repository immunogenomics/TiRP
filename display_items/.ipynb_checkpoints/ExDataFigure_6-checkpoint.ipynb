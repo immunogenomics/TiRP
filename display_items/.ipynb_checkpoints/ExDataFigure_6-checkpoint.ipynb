{
 "cells": [
  {
   "cell_type": "markdown",
   "id": "7ada7ec9-b07f-4050-b956-bf24b9d7164d",
   "metadata": {},
   "source": [
    "## Extended Data Figure 6"
   ]
  },
  {
   "cell_type": "code",
   "execution_count": 1,
   "id": "61809952-e04b-4b92-9598-f00e30037d18",
   "metadata": {},
   "outputs": [],
   "source": [
    "##loading TiRP utility functions:\n",
    "source(\"../utils.R\")"
   ]
  },
  {
   "cell_type": "code",
   "execution_count": null,
   "id": "e3b5c300-08d0-4299-b5ba-cdc30171a823",
   "metadata": {},
   "outputs": [],
   "source": []
  }
 ],
 "metadata": {
  "kernelspec": {
   "display_name": "R",
   "language": "R",
   "name": "ir"
  },
  "language_info": {
   "codemirror_mode": "r",
   "file_extension": ".r",
   "mimetype": "text/x-r-source",
   "name": "R",
   "pygments_lexer": "r",
   "version": "4.1.1"
  }
 },
 "nbformat": 4,
 "nbformat_minor": 5
}
