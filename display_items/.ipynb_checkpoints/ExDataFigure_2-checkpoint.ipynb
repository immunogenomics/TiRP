{
 "cells": [
  {
   "cell_type": "markdown",
   "id": "0ba401d9-d8f1-4ae8-b3b7-111df9971297",
   "metadata": {},
   "source": [
    "## Extended Data Figure 2"
   ]
  },
  {
   "cell_type": "code",
   "execution_count": 1,
   "id": "ef078148-4f70-426b-b249-fc170e07fd0d",
   "metadata": {},
   "outputs": [],
   "source": [
    "##loading TiRP utility functions:\n",
    "source(\"../utils.R\")"
   ]
  },
  {
   "cell_type": "code",
   "execution_count": null,
   "id": "425ad090-6155-4e62-8457-aa0fabad6bae",
   "metadata": {},
   "outputs": [],
   "source": []
  }
 ],
 "metadata": {
  "kernelspec": {
   "display_name": "R",
   "language": "R",
   "name": "ir"
  },
  "language_info": {
   "codemirror_mode": "r",
   "file_extension": ".r",
   "mimetype": "text/x-r-source",
   "name": "R",
   "pygments_lexer": "r",
   "version": "4.1.1"
  }
 },
 "nbformat": 4,
 "nbformat_minor": 5
}
