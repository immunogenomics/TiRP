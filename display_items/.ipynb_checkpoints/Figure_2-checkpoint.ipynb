{
 "cells": [
  {
   "cell_type": "markdown",
   "id": "05be970a-ae42-40a2-b3a4-b303ebd40750",
   "metadata": {},
   "source": [
    "## Figure 2"
   ]
  },
  {
   "cell_type": "code",
   "execution_count": 1,
   "id": "8553c009-ada0-498e-9240-c01bba5fad5e",
   "metadata": {},
   "outputs": [],
   "source": [
    "##loading TiRP utility functions:\n",
    "source(\"../utils.R\")"
   ]
  },
  {
   "cell_type": "code",
   "execution_count": 2,
   "id": "93ff7f8e-f7e7-4761-9ee1-e894398fc5e5",
   "metadata": {},
   "outputs": [
    {
     "name": "stdout",
     "output_type": "stream",
     "text": [
      "[1] \"all\"\n"
     ]
    }
   ],
   "source": [
    "##loading Seay et al. 2016 dataset, as downloaded from ImmuneAccess (https://clients.adaptivebiotech.com/pub/seay-2016-jciinsight)\n",
    "print(load(\"/panfs/pan01/hpc/groups/srlab2/klagattuta/seay/seay_data.rds\"))"
   ]
  },
  {
   "cell_type": "code",
   "execution_count": 3,
   "id": "ea4fd0c9-02fe-4bba-b373-a48f557799a2",
   "metadata": {},
   "outputs": [
    {
     "data": {
      "text/html": [
       "<table class=\"dataframe\">\n",
       "<caption>A data.frame: 6 × 9</caption>\n",
       "<thead>\n",
       "\t<tr><th></th><th scope=col>cell_state</th><th scope=col>donor</th><th scope=col>pheno</th><th scope=col>site</th><th scope=col>locus</th><th scope=col>sequence</th><th scope=col>frame_type</th><th scope=col>vgene</th><th scope=col>jgene</th></tr>\n",
       "\t<tr><th></th><th scope=col>&lt;fct&gt;</th><th scope=col>&lt;fct&gt;</th><th scope=col>&lt;fct&gt;</th><th scope=col>&lt;fct&gt;</th><th scope=col>&lt;fct&gt;</th><th scope=col>&lt;fct&gt;</th><th scope=col>&lt;fct&gt;</th><th scope=col>&lt;fct&gt;</th><th scope=col>&lt;fct&gt;</th></tr>\n",
       "</thead>\n",
       "<tbody>\n",
       "\t<tr><th scope=row>1</th><td>CD4+</td><td>6323</td><td>T1D</td><td>intra-islet</td><td>TCRB</td><td>CASSQDRGSNQPQHF</td><td>In </td><td>TCRBV05-03</td><td>TCRBJ01-05</td></tr>\n",
       "\t<tr><th scope=row>2</th><td>CD4+</td><td>6323</td><td>T1D</td><td>intra-islet</td><td>TCRB</td><td>CARSPKVQYTF    </td><td>In </td><td>TCRBV05-03</td><td>TCRBJ01-02</td></tr>\n",
       "\t<tr><th scope=row>3</th><td>CD4+</td><td>6323</td><td>T1D</td><td>intra-islet</td><td>TCRB</td><td>CASSLVGQNYGYTF </td><td>In </td><td>TCRBV05-03</td><td>TCRBJ01-02</td></tr>\n",
       "\t<tr><th scope=row>4</th><td>CD4+</td><td>6323</td><td>T1D</td><td>intra-islet</td><td>TCRB</td><td>               </td><td>Out</td><td>TCRBV05-03</td><td>TCRBJ01-02</td></tr>\n",
       "\t<tr><th scope=row>5</th><td>CD4+</td><td>6323</td><td>T1D</td><td>intra-islet</td><td>TCRB</td><td>CARRVRKTYGYTF  </td><td>In </td><td>TCRBV05-03</td><td>TCRBJ01-02</td></tr>\n",
       "\t<tr><th scope=row>6</th><td>CD4+</td><td>6323</td><td>T1D</td><td>intra-islet</td><td>TCRB</td><td>CARSPKVQYTF    </td><td>In </td><td>TCRBV05-03</td><td>TCRBJ01-02</td></tr>\n",
       "</tbody>\n",
       "</table>\n"
      ],
      "text/latex": [
       "A data.frame: 6 × 9\n",
       "\\begin{tabular}{r|lllllllll}\n",
       "  & cell\\_state & donor & pheno & site & locus & sequence & frame\\_type & vgene & jgene\\\\\n",
       "  & <fct> & <fct> & <fct> & <fct> & <fct> & <fct> & <fct> & <fct> & <fct>\\\\\n",
       "\\hline\n",
       "\t1 & CD4+ & 6323 & T1D & intra-islet & TCRB & CASSQDRGSNQPQHF & In  & TCRBV05-03 & TCRBJ01-05\\\\\n",
       "\t2 & CD4+ & 6323 & T1D & intra-islet & TCRB & CARSPKVQYTF     & In  & TCRBV05-03 & TCRBJ01-02\\\\\n",
       "\t3 & CD4+ & 6323 & T1D & intra-islet & TCRB & CASSLVGQNYGYTF  & In  & TCRBV05-03 & TCRBJ01-02\\\\\n",
       "\t4 & CD4+ & 6323 & T1D & intra-islet & TCRB &                 & Out & TCRBV05-03 & TCRBJ01-02\\\\\n",
       "\t5 & CD4+ & 6323 & T1D & intra-islet & TCRB & CARRVRKTYGYTF   & In  & TCRBV05-03 & TCRBJ01-02\\\\\n",
       "\t6 & CD4+ & 6323 & T1D & intra-islet & TCRB & CARSPKVQYTF     & In  & TCRBV05-03 & TCRBJ01-02\\\\\n",
       "\\end{tabular}\n"
      ],
      "text/markdown": [
       "\n",
       "A data.frame: 6 × 9\n",
       "\n",
       "| <!--/--> | cell_state &lt;fct&gt; | donor &lt;fct&gt; | pheno &lt;fct&gt; | site &lt;fct&gt; | locus &lt;fct&gt; | sequence &lt;fct&gt; | frame_type &lt;fct&gt; | vgene &lt;fct&gt; | jgene &lt;fct&gt; |\n",
       "|---|---|---|---|---|---|---|---|---|---|\n",
       "| 1 | CD4+ | 6323 | T1D | intra-islet | TCRB | CASSQDRGSNQPQHF | In  | TCRBV05-03 | TCRBJ01-05 |\n",
       "| 2 | CD4+ | 6323 | T1D | intra-islet | TCRB | CARSPKVQYTF     | In  | TCRBV05-03 | TCRBJ01-02 |\n",
       "| 3 | CD4+ | 6323 | T1D | intra-islet | TCRB | CASSLVGQNYGYTF  | In  | TCRBV05-03 | TCRBJ01-02 |\n",
       "| 4 | CD4+ | 6323 | T1D | intra-islet | TCRB | <!----> | Out | TCRBV05-03 | TCRBJ01-02 |\n",
       "| 5 | CD4+ | 6323 | T1D | intra-islet | TCRB | CARRVRKTYGYTF   | In  | TCRBV05-03 | TCRBJ01-02 |\n",
       "| 6 | CD4+ | 6323 | T1D | intra-islet | TCRB | CARSPKVQYTF     | In  | TCRBV05-03 | TCRBJ01-02 |\n",
       "\n"
      ],
      "text/plain": [
       "  cell_state donor pheno site        locus sequence        frame_type\n",
       "1 CD4+       6323  T1D   intra-islet TCRB  CASSQDRGSNQPQHF In        \n",
       "2 CD4+       6323  T1D   intra-islet TCRB  CARSPKVQYTF     In        \n",
       "3 CD4+       6323  T1D   intra-islet TCRB  CASSLVGQNYGYTF  In        \n",
       "4 CD4+       6323  T1D   intra-islet TCRB                  Out       \n",
       "5 CD4+       6323  T1D   intra-islet TCRB  CARRVRKTYGYTF   In        \n",
       "6 CD4+       6323  T1D   intra-islet TCRB  CARSPKVQYTF     In        \n",
       "  vgene      jgene     \n",
       "1 TCRBV05-03 TCRBJ01-05\n",
       "2 TCRBV05-03 TCRBJ01-02\n",
       "3 TCRBV05-03 TCRBJ01-02\n",
       "4 TCRBV05-03 TCRBJ01-02\n",
       "5 TCRBV05-03 TCRBJ01-02\n",
       "6 TCRBV05-03 TCRBJ01-02"
      ]
     },
     "metadata": {},
     "output_type": "display_data"
    }
   ],
   "source": [
    "head(all)"
   ]
  },
  {
   "cell_type": "markdown",
   "id": "cc0aecd4-ed42-4c11-b690-db466702e0d8",
   "metadata": {},
   "source": [
    "### *Filtering TCR data*\n",
    "\n",
    "1. Filtering to productive, in-frame sequences that are expressed as surface TCRs: "
   ]
  },
  {
   "cell_type": "code",
   "execution_count": 4,
   "id": "3a285124-7f0f-4795-9f64-91899f27b7fc",
   "metadata": {},
   "outputs": [],
   "source": [
    "data = all[all$frame_type==\"In\",]"
   ]
  },
  {
   "cell_type": "markdown",
   "id": "21aa92d4-d728-45eb-a81f-f4a8873775ce",
   "metadata": {},
   "source": [
    "2. To study a tractable number of TCR positions, we filter to TCRs no shorter than **12 amino acids** and no longer than **17 amino acids.** These represent >90% of all TCR sequences observed:"
   ]
  },
  {
   "cell_type": "code",
   "execution_count": 5,
   "id": "5c7cc9f8-5667-4c96-a126-1a76a4d82d40",
   "metadata": {},
   "outputs": [
    {
     "data": {
      "text/html": [
       "0.914088822861702"
      ],
      "text/latex": [
       "0.914088822861702"
      ],
      "text/markdown": [
       "0.914088822861702"
      ],
      "text/plain": [
       "[1] 0.9140888"
      ]
     },
     "metadata": {},
     "output_type": "display_data"
    }
   ],
   "source": [
    "data$sequence = as.character(data$sequence)\n",
    "data$length = sapply(data$sequence, function(x) nchar(x))\n",
    "nrow(data[data$length>=12 & data$length<=17,])/nrow(data)                  \n",
    "data = data[data$length>=12 & data$length<=17,]"
   ]
  },
  {
   "cell_type": "markdown",
   "id": "45651ae0-041d-498f-a473-7a07597042cf",
   "metadata": {},
   "source": [
    "3. Harmonizing TCR labels, filtering to Tregs and Tconvs:"
   ]
  },
  {
   "cell_type": "code",
   "execution_count": 6,
   "id": "692b785e-45c0-43e7-b287-26811dfc908e",
   "metadata": {},
   "outputs": [
    {
     "data": {
      "text/plain": [
       "\n",
       "   CD4+    CD8+   Tconv    Treg  B_Cell  B_cell Tconv-a Tconv-b \n",
       "    479 1365692 2567266 1468807    1211     549   20143   10750 "
      ]
     },
     "metadata": {},
     "output_type": "display_data"
    },
    {
     "data": {
      "text/plain": [
       "\n",
       "  6323   6174   6254   6271   6278   6279   6282   6287   6288   6289   6161 \n",
       "116243 151071 187336 397650 314740 364370  24467  90606 223162 243304 143468 \n",
       "  6193   6195   6196   6207   6208   6211   6212   6220   6242   6243   6262 \n",
       "252205 111296  90681 587977 246381 197835 286119 125509 326445 243398 125043 \n",
       "  6263   6264   6265   6266   6285 \n",
       " 52887 119999 152100 111314 149291 "
      ]
     },
     "metadata": {},
     "output_type": "display_data"
    },
    {
     "data": {
      "text/plain": [
       "\n",
       "    T1D CONTROL \n",
       "3438191 1996706 "
      ]
     },
     "metadata": {},
     "output_type": "display_data"
    },
    {
     "data": {
      "text/plain": [
       "\n",
       "intra-islet        PBMC         PLN         SPL      Spleen         pLN \n",
       "        836      113479       51576         549     1481979     2971178 \n",
       "        iLN \n",
       "     815300 "
      ]
     },
     "metadata": {},
     "output_type": "display_data"
    },
    {
     "data": {
      "text/plain": [
       "\n",
       "  locus    TCRB \n",
       "      0 5434897 "
      ]
     },
     "metadata": {},
     "output_type": "display_data"
    }
   ],
   "source": [
    "table(data$cell_state)\n",
    "table(data$donor)\n",
    "table(data$pheno)\n",
    "table(data$site)\n",
    "table(data$locus)"
   ]
  },
  {
   "cell_type": "code",
   "execution_count": 7,
   "id": "7b0a7ff6-ba1a-48d0-9dc6-f6245af1ab3c",
   "metadata": {},
   "outputs": [],
   "source": [
    "data$cell_state[grepl(\"Tconv\", data$cell_state)] = \"Tconv\"\n",
    "data = data[data$cell_state %in% c(\"Tconv\", \"Treg\"),]"
   ]
  },
  {
   "cell_type": "code",
   "execution_count": 8,
   "id": "663ee4a3-5188-4506-8211-1a9232ab6e73",
   "metadata": {},
   "outputs": [],
   "source": [
    "data$site[data$site==\"PLN\"] = \"pLN\""
   ]
  },
  {
   "cell_type": "code",
   "execution_count": 9,
   "id": "5d5482d8-9ab7-4dd1-80dd-4b81f79c4549",
   "metadata": {},
   "outputs": [
    {
     "data": {
      "text/plain": [
       "      \n",
       "        Tconv   Treg\n",
       "  6323  37312  41254\n",
       "  6174      0  98705\n",
       "  6254  87488  45229\n",
       "  6271 181666 108787\n",
       "  6278 202489  21526\n",
       "  6279 165935 110012\n",
       "  6282  24467      0\n",
       "  6287  37633  18571\n",
       "  6288 101189  75744\n",
       "  6289 105795 100061\n",
       "  6161  58459  15437\n",
       "  6193 134732 102491\n",
       "  6195      0      0\n",
       "  6196  53325  37356\n",
       "  6207 321758 174203\n",
       "  6208 186227  60131\n",
       "  6211  91025  57642\n",
       "  6212 145555  58547\n",
       "  6220  20032 101814\n",
       "  6242 173391  92702\n",
       "  6243 135704  22825\n",
       "  6262  46876  27991\n",
       "  6263  34972   5543\n",
       "  6264  57752  11730\n",
       "  6265  52787  26736\n",
       "  6266  54312  28189\n",
       "  6285  87278  25581"
      ]
     },
     "metadata": {},
     "output_type": "display_data"
    }
   ],
   "source": [
    "table(data$donor, as.character(data$cell_state))"
   ]
  },
  {
   "cell_type": "markdown",
   "id": "c95ab543-3038-4035-bee2-eb5078d10046",
   "metadata": {},
   "source": [
    "4. Removing samples that were not sorted for both Tregs and Tconvs:"
   ]
  },
  {
   "cell_type": "code",
   "execution_count": 10,
   "id": "7df96dd4-3168-4920-8174-2ced16a31054",
   "metadata": {},
   "outputs": [],
   "source": [
    "data = data[!(data$donor %in% c(\"6174\", \"6282\")),]"
   ]
  },
  {
   "cell_type": "markdown",
   "id": "ede0c212-24a2-4675-b564-2c35fe44a3c2",
   "metadata": {},
   "source": [
    "5. Holding out observations for validation:"
   ]
  },
  {
   "cell_type": "code",
   "execution_count": 11,
   "id": "a7790a7d-dd25-4382-8438-0d1ef3529b25",
   "metadata": {},
   "outputs": [],
   "source": [
    "data = data[!(data$donor %in% c(\"6193\", \"6207\", \"6196\", \"6161\", \"6287\", \"6279\")),]"
   ]
  },
  {
   "cell_type": "markdown",
   "id": "dcf7fb15-0b81-48a0-b369-c2dc5a475d29",
   "metadata": {},
   "source": [
    "6. Removing duplicate TCRs within each donor to consider each T cell clone one observation regardless of clone size:"
   ]
  },
  {
   "cell_type": "code",
   "execution_count": 12,
   "id": "1422fd73-0cbb-445f-848e-13c410be814b",
   "metadata": {},
   "outputs": [],
   "source": [
    "data$ident = paste(paste(data$donor, data$sequence), data$cell_state)\n",
    "data = data[!(duplicated(data$ident)),]"
   ]
  },
  {
   "cell_type": "markdown",
   "id": "bff14412-871a-4890-be4b-58fd6fb35e1b",
   "metadata": {},
   "source": [
    "### *Defining positional TCR features*\n",
    "\n",
    "We use IMGT numbering of the TCR sequence (http://www.imgt.org/IMGTScientificChart/Numbering/IMGTIGVLsuperfamily.html) to define positional TCR features."
   ]
  },
  {
   "cell_type": "code",
   "execution_count": 13,
   "id": "d9d063ef-7e47-4d40-b318-8cef3bb8f0f2",
   "metadata": {},
   "outputs": [],
   "source": [
    "data <- data\n",
    "data <- add_positionalAA()"
   ]
  },
  {
   "cell_type": "markdown",
   "id": "09ae308c-4d27-4cf3-9ea7-dbdfb7fb8b51",
   "metadata": {},
   "source": [
    "*We have made this filtered dataset available as \"seay_discovery.rds\" in the **data/seay2016** folder. Uncommenting the following line would save another copy (warning: large file).*"
   ]
  },
  {
   "cell_type": "code",
   "execution_count": null,
   "id": "a7a6052c-c416-48c5-a99d-7f5b2af93afe",
   "metadata": {},
   "outputs": [],
   "source": [
    "#saveRDS(data, \"seay_discovery.rds\")"
   ]
  },
  {
   "cell_type": "code",
   "execution_count": 15,
   "id": "36d7b127-79e0-4d1f-9a57-bb5e251ea034",
   "metadata": {},
   "outputs": [],
   "source": [
    "data <- readRDS(paste(path_to_data, \"seay2016/seay_discovery.rds\", sep=\"/\"))"
   ]
  },
  {
   "cell_type": "markdown",
   "id": "9c4c063f-3a66-4ee7-8965-22014aee4920",
   "metadata": {},
   "source": [
    "### *Visualizing positional amino acid frequencies*"
   ]
  },
  {
   "cell_type": "code",
   "execution_count": 16,
   "id": "4b526a07-93aa-4810-b234-b6fb8512e0af",
   "metadata": {},
   "outputs": [
    {
     "data": {
      "image/png": "[encoded data removed]",
      "text/plain": [
       "plot without title"
      ]
     },
     "metadata": {
      "image/png": {
       "height": 180,
       "width": 360
      }
     },
     "output_type": "display_data"
    }
   ],
   "source": [
    "options(repr.plot.width=6, repr.plot.height=3)\n",
    "fig2atop = ggseqlogo(data$sequence[data$length==\"15\"], seq_type='aa', col_scheme=amino_color_scheme(), method='prob')\n",
    "fig2atop"
   ]
  },
  {
   "cell_type": "markdown",
   "id": "3dcf7e83-776e-4ae4-90ed-f040056a3de8",
   "metadata": {},
   "source": [
    "### *Calculating mutual information between TCR positions*\n",
    "\n",
    "To calculate normalized mutual information (NMI) between TCR positions i and j, we divide the mutual information (computed with R pacakge DescTools) between i and j by the mean Shannon entropy of i and j. See the **mutinf_heatmap()** function in *utils.R* for full documentation."
   ]
  },
  {
   "cell_type": "markdown",
   "id": "cb762259-0211-4212-baaa-547dd0f7be5f",
   "metadata": {},
   "source": [
    "Key computation in **mutinf_heatmap()**:\n",
    "\n",
    "`mat[i,j] = MutInf(sub[,indi], sub[,indj])/mean(c(Entropy(table(sub[,indi])), Entropy(table(sub[,indj]))))`"
   ]
  },
  {
   "cell_type": "markdown",
   "id": "28bc962b-42d8-4ff9-919a-8602eb5c1c56",
   "metadata": {},
   "source": [
    "*Make sure the TCR dataset is a global variable named \"data\" before calling this function*"
   ]
  },
  {
   "cell_type": "code",
   "execution_count": 18,
   "id": "6c2c6c35-b093-48c4-85a3-b813b18dd265",
   "metadata": {},
   "outputs": [
    {
     "data": {
      "image/png": "[encoded data removed]",
      "text/plain": [
       "plot without title"
      ]
     },
     "metadata": {
      "image/png": {
       "height": 300,
       "width": 300
      }
     },
     "output_type": "display_data"
    }
   ],
   "source": [
    "options(repr.plot.width=5, repr.plot.height=5)\n",
    "fig2abottom = mutinf_heatmap(15)\n",
    "fig2abottom"
   ]
  }
 ],
 "metadata": {
  "kernelspec": {
   "display_name": "R",
   "language": "R",
   "name": "ir"
  },
  "language_info": {
   "codemirror_mode": "r",
   "file_extension": ".r",
   "mimetype": "text/x-r-source",
   "name": "R",
   "pygments_lexer": "r",
   "version": "4.1.1"
  }
 },
 "nbformat": 4,
 "nbformat_minor": 5
}
