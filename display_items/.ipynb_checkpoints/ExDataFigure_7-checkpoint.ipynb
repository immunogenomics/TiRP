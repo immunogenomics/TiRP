{
 "cells": [
  {
   "cell_type": "markdown",
   "id": "45004748-e63e-40d0-8750-603addfadaf5",
   "metadata": {},
   "source": [
    "## Extended Data Figure 7"
   ]
  },
  {
   "cell_type": "code",
   "execution_count": 1,
   "id": "617aa4e6-5566-4fa9-be89-3b6b728e85fd",
   "metadata": {},
   "outputs": [],
   "source": [
    "##loading TiRP utility functions:\n",
    "source(\"../utils.R\")"
   ]
  },
  {
   "cell_type": "code",
   "execution_count": null,
   "id": "292c850d-ab17-40fc-a668-94afa0e39201",
   "metadata": {},
   "outputs": [],
   "source": []
  }
 ],
 "metadata": {
  "kernelspec": {
   "display_name": "R",
   "language": "R",
   "name": "ir"
  },
  "language_info": {
   "codemirror_mode": "r",
   "file_extension": ".r",
   "mimetype": "text/x-r-source",
   "name": "R",
   "pygments_lexer": "r",
   "version": "4.1.1"
  }
 },
 "nbformat": 4,
 "nbformat_minor": 5
}
