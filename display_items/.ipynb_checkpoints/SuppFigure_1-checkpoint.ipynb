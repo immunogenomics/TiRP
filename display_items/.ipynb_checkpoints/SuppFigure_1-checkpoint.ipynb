{
 "cells": [
  {
   "cell_type": "code",
   "execution_count": null,
   "id": "7109bb97-1d52-4d1e-aa3b-203e61a50312",
   "metadata": {},
   "outputs": [],
   "source": [
    "source(\"/PHShome/kl162/TiRP_github/utils.R\")"
   ]
  },
  {
   "cell_type": "code",
   "execution_count": null,
   "id": "cf377673-3fb5-406f-b051-0715b56d3ce6",
   "metadata": {},
   "outputs": [],
   "source": [
    "data = readRDS(\"seay_discovery.rds\")"
   ]
  },
  {
   "cell_type": "code",
   "execution_count": null,
   "id": "e0033a73-f282-413c-baba-d59a47c78939",
   "metadata": {},
   "outputs": [],
   "source": [
    "lens = c(\"12\", \"13\", \"14\", \"16\", \"17\")\n",
    "plots = list()\n",
    "for (i in 1:length(lens)){\n",
    "    plots[[i]] = mutinf_heatmap(lens[i], add_conditional_MI = TRUE)\n",
    "}"
   ]
  }
 ],
 "metadata": {
  "kernelspec": {
   "display_name": "R",
   "language": "R",
   "name": "ir"
  },
  "language_info": {
   "codemirror_mode": "r",
   "file_extension": ".r",
   "mimetype": "text/x-r-source",
   "name": "R",
   "pygments_lexer": "r",
   "version": "4.1.1"
  }
 },
 "nbformat": 4,
 "nbformat_minor": 5
}
