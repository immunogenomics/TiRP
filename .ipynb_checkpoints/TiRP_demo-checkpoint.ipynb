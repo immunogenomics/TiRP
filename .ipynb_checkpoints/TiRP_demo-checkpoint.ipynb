{
 "cells": [
  {
   "cell_type": "code",
   "execution_count": 7,
   "id": "caa4ee2a",
   "metadata": {},
   "outputs": [],
   "source": [
    "source(\"TiRP.R\")"
   ]
  },
  {
   "cell_type": "markdown",
   "id": "52ec9d75",
   "metadata": {},
   "source": [
    "note: ```TiRP()``` has 2 dependencies: R package \"stringr\" and R package \"dplyr\""
   ]
  },
  {
   "cell_type": "code",
   "execution_count": 8,
   "id": "67eade71",
   "metadata": {},
   "outputs": [],
   "source": [
    "path_to_data <- \"/Users/klagattu/Documents/GitHub/TiRP_data/data\"\n",
    "path_to_results <- \"/Users/klagattu/Documents/GitHub/TiRP/results\""
   ]
  },
  {
   "cell_type": "markdown",
   "id": "61f9f5af",
   "metadata": {},
   "source": [
    "For this demo, we will use publicly available TCR sequences sampled from the human thymus (https://pubmed.ncbi.nlm.nih.gov/32079746/)."
   ]
  },
  {
   "cell_type": "code",
   "execution_count": 9,
   "id": "d5fc0cce",
   "metadata": {},
   "outputs": [],
   "source": [
    "data <- readRDS(paste(path_to_data, \"park2020/park2020_TCRdata.rds\", sep=\"/\"))"
   ]
  },
  {
   "cell_type": "code",
   "execution_count": 3,
   "id": "a78c0399",
   "metadata": {},
   "outputs": [
    {
     "data": {
      "text/html": [
       "<table class=\"dataframe\">\n",
       "<caption>A data.frame: 6 × 3</caption>\n",
       "<thead>\n",
       "\t<tr><th></th><th scope=col>index</th><th scope=col>v_gene</th><th scope=col>cdr3</th></tr>\n",
       "\t<tr><th></th><th scope=col>&lt;chr&gt;</th><th scope=col>&lt;fct&gt;</th><th scope=col>&lt;chr&gt;</th></tr>\n",
       "</thead>\n",
       "<tbody>\n",
       "\t<tr><th scope=row>5</th><td>FCAImmP7292030-AAACCTGCAGCGTAAG</td><td>TRBV9  </td><td>CASSVQRGLTDTQYF </td></tr>\n",
       "\t<tr><th scope=row>8</th><td>FCAImmP7292030-AAACCTGCAGTATCTG</td><td>TRBV4-3</td><td>CASSQVAGGHTGELFF</td></tr>\n",
       "\t<tr><th scope=row>10</th><td>FCAImmP7292030-AAACCTGGTACAGACG</td><td>TRBV7-4</td><td>CASSLGARNYGYTF  </td></tr>\n",
       "\t<tr><th scope=row>18</th><td>FCAImmP7292030-AAACCTGGTCCATCCT</td><td>TRBV27 </td><td>CASSLGNTGELFF   </td></tr>\n",
       "\t<tr><th scope=row>20</th><td>FCAImmP7292030-AAACCTGGTGTTGGGA</td><td>TRBV6-3</td><td>CASSYSGLGETQYF  </td></tr>\n",
       "\t<tr><th scope=row>21</th><td>FCAImmP7292030-AAACCTGGTTAAGAAC</td><td>TRBV9  </td><td>CASSYRGGANVLTF  </td></tr>\n",
       "</tbody>\n",
       "</table>\n"
      ],
      "text/latex": [
       "A data.frame: 6 × 3\n",
       "\\begin{tabular}{r|lll}\n",
       "  & index & v\\_gene & cdr3\\\\\n",
       "  & <chr> & <fct> & <chr>\\\\\n",
       "\\hline\n",
       "\t5 & FCAImmP7292030-AAACCTGCAGCGTAAG & TRBV9   & CASSVQRGLTDTQYF \\\\\n",
       "\t8 & FCAImmP7292030-AAACCTGCAGTATCTG & TRBV4-3 & CASSQVAGGHTGELFF\\\\\n",
       "\t10 & FCAImmP7292030-AAACCTGGTACAGACG & TRBV7-4 & CASSLGARNYGYTF  \\\\\n",
       "\t18 & FCAImmP7292030-AAACCTGGTCCATCCT & TRBV27  & CASSLGNTGELFF   \\\\\n",
       "\t20 & FCAImmP7292030-AAACCTGGTGTTGGGA & TRBV6-3 & CASSYSGLGETQYF  \\\\\n",
       "\t21 & FCAImmP7292030-AAACCTGGTTAAGAAC & TRBV9   & CASSYRGGANVLTF  \\\\\n",
       "\\end{tabular}\n"
      ],
      "text/markdown": [
       "\n",
       "A data.frame: 6 × 3\n",
       "\n",
       "| <!--/--> | index &lt;chr&gt; | v_gene &lt;fct&gt; | cdr3 &lt;chr&gt; |\n",
       "|---|---|---|---|\n",
       "| 5 | FCAImmP7292030-AAACCTGCAGCGTAAG | TRBV9   | CASSVQRGLTDTQYF  |\n",
       "| 8 | FCAImmP7292030-AAACCTGCAGTATCTG | TRBV4-3 | CASSQVAGGHTGELFF |\n",
       "| 10 | FCAImmP7292030-AAACCTGGTACAGACG | TRBV7-4 | CASSLGARNYGYTF   |\n",
       "| 18 | FCAImmP7292030-AAACCTGGTCCATCCT | TRBV27  | CASSLGNTGELFF    |\n",
       "| 20 | FCAImmP7292030-AAACCTGGTGTTGGGA | TRBV6-3 | CASSYSGLGETQYF   |\n",
       "| 21 | FCAImmP7292030-AAACCTGGTTAAGAAC | TRBV9   | CASSYRGGANVLTF   |\n",
       "\n"
      ],
      "text/plain": [
       "   index                           v_gene  cdr3            \n",
       "5  FCAImmP7292030-AAACCTGCAGCGTAAG TRBV9   CASSVQRGLTDTQYF \n",
       "8  FCAImmP7292030-AAACCTGCAGTATCTG TRBV4-3 CASSQVAGGHTGELFF\n",
       "10 FCAImmP7292030-AAACCTGGTACAGACG TRBV7-4 CASSLGARNYGYTF  \n",
       "18 FCAImmP7292030-AAACCTGGTCCATCCT TRBV27  CASSLGNTGELFF   \n",
       "20 FCAImmP7292030-AAACCTGGTGTTGGGA TRBV6-3 CASSYSGLGETQYF  \n",
       "21 FCAImmP7292030-AAACCTGGTTAAGAAC TRBV9   CASSYRGGANVLTF  "
      ]
     },
     "metadata": {},
     "output_type": "display_data"
    }
   ],
   "source": [
    "head(data)"
   ]
  },
  {
   "cell_type": "code",
   "execution_count": 10,
   "id": "8261dfb2",
   "metadata": {},
   "outputs": [
    {
     "data": {
      "text/html": [
       "<table class=\"dataframe\">\n",
       "<caption>A data.frame: 6 × 2</caption>\n",
       "<thead>\n",
       "\t<tr><th></th><th scope=col>v_gene</th><th scope=col>cdr3</th></tr>\n",
       "\t<tr><th></th><th scope=col>&lt;fct&gt;</th><th scope=col>&lt;chr&gt;</th></tr>\n",
       "</thead>\n",
       "<tbody>\n",
       "\t<tr><th scope=row>5</th><td>TRBV9  </td><td>CASSVQRGLTDTQYF </td></tr>\n",
       "\t<tr><th scope=row>8</th><td>TRBV4-3</td><td>CASSQVAGGHTGELFF</td></tr>\n",
       "\t<tr><th scope=row>10</th><td>TRBV7-4</td><td>CASSLGARNYGYTF  </td></tr>\n",
       "\t<tr><th scope=row>18</th><td>TRBV27 </td><td>CASSLGNTGELFF   </td></tr>\n",
       "\t<tr><th scope=row>20</th><td>TRBV6-3</td><td>CASSYSGLGETQYF  </td></tr>\n",
       "\t<tr><th scope=row>21</th><td>TRBV9  </td><td>CASSYRGGANVLTF  </td></tr>\n",
       "</tbody>\n",
       "</table>\n"
      ],
      "text/latex": [
       "A data.frame: 6 × 2\n",
       "\\begin{tabular}{r|ll}\n",
       "  & v\\_gene & cdr3\\\\\n",
       "  & <fct> & <chr>\\\\\n",
       "\\hline\n",
       "\t5 & TRBV9   & CASSVQRGLTDTQYF \\\\\n",
       "\t8 & TRBV4-3 & CASSQVAGGHTGELFF\\\\\n",
       "\t10 & TRBV7-4 & CASSLGARNYGYTF  \\\\\n",
       "\t18 & TRBV27  & CASSLGNTGELFF   \\\\\n",
       "\t20 & TRBV6-3 & CASSYSGLGETQYF  \\\\\n",
       "\t21 & TRBV9   & CASSYRGGANVLTF  \\\\\n",
       "\\end{tabular}\n"
      ],
      "text/markdown": [
       "\n",
       "A data.frame: 6 × 2\n",
       "\n",
       "| <!--/--> | v_gene &lt;fct&gt; | cdr3 &lt;chr&gt; |\n",
       "|---|---|---|\n",
       "| 5 | TRBV9   | CASSVQRGLTDTQYF  |\n",
       "| 8 | TRBV4-3 | CASSQVAGGHTGELFF |\n",
       "| 10 | TRBV7-4 | CASSLGARNYGYTF   |\n",
       "| 18 | TRBV27  | CASSLGNTGELFF    |\n",
       "| 20 | TRBV6-3 | CASSYSGLGETQYF   |\n",
       "| 21 | TRBV9   | CASSYRGGANVLTF   |\n",
       "\n"
      ],
      "text/plain": [
       "   v_gene  cdr3            \n",
       "5  TRBV9   CASSVQRGLTDTQYF \n",
       "8  TRBV4-3 CASSQVAGGHTGELFF\n",
       "10 TRBV7-4 CASSLGARNYGYTF  \n",
       "18 TRBV27  CASSLGNTGELFF   \n",
       "20 TRBV6-3 CASSYSGLGETQYF  \n",
       "21 TRBV9   CASSYRGGANVLTF  "
      ]
     },
     "metadata": {},
     "output_type": "display_data"
    }
   ],
   "source": [
    "input = data[,2:3]\n",
    "head(input)"
   ]
  },
  {
   "cell_type": "code",
   "execution_count": 11,
   "id": "0cfcdfb4",
   "metadata": {},
   "outputs": [],
   "source": [
    "res = TiRP(input)"
   ]
  },
  {
   "cell_type": "code",
   "execution_count": 12,
   "id": "599ab11d",
   "metadata": {},
   "outputs": [
    {
     "data": {
      "text/html": [
       "<table class=\"dataframe\">\n",
       "<caption>A data.frame: 6 × 18</caption>\n",
       "<thead>\n",
       "\t<tr><th></th><th scope=col>v_gene</th><th scope=col>cdr3</th><th scope=col>vgene</th><th scope=col>length</th><th scope=col>Jmotif</th><th scope=col>cdr3MR</th><th scope=col>perc_score</th><th scope=col>pos_score</th><th scope=col>vgene_score</th><th scope=col>p107_score</th><th scope=col>Jmotif_score</th><th scope=col>p113_score</th><th scope=col>length_score</th><th scope=col>total_score</th><th scope=col>vTiRP</th><th scope=col>mTiRP</th><th scope=col>jTiRP</th><th scope=col>TiRP</th></tr>\n",
       "\t<tr><th></th><th scope=col>&lt;fct&gt;</th><th scope=col>&lt;chr&gt;</th><th scope=col>&lt;chr&gt;</th><th scope=col>&lt;int&gt;</th><th scope=col>&lt;chr&gt;</th><th scope=col>&lt;chr&gt;</th><th scope=col>&lt;dbl&gt;</th><th scope=col>&lt;dbl&gt;</th><th scope=col>&lt;dbl&gt;</th><th scope=col>&lt;dbl&gt;</th><th scope=col>&lt;dbl&gt;</th><th scope=col>&lt;dbl&gt;</th><th scope=col>&lt;dbl&gt;</th><th scope=col>&lt;dbl&gt;</th><th scope=col>&lt;dbl&gt;</th><th scope=col>&lt;dbl&gt;</th><th scope=col>&lt;dbl&gt;</th><th scope=col>&lt;dbl&gt;</th></tr>\n",
       "</thead>\n",
       "<tbody>\n",
       "\t<tr><th scope=row>1</th><td>TRBV9  </td><td>CASSVQRGLTDTQYF </td><td>TCRBV09-01</td><td>15</td><td>DTQYF</td><td>VQRGL </td><td> 0.038860944</td><td>-0.0098895129</td><td>-0.40507820</td><td>0</td><td>-0.02404515</td><td>0.04927728</td><td> 0.00000000</td><td>-0.35087464</td><td>-1.0963316</td><td>-0.04014530</td><td>-0.208593475</td><td>-1.345070398</td></tr>\n",
       "\t<tr><th scope=row>2</th><td>TRBV4-3</td><td>CASSQVAGGHTGELFF</td><td>TCRBV04-03</td><td>16</td><td>GELFF</td><td>QVAGGH</td><td>-0.018614110</td><td> 0.0000000000</td><td>-0.40765045</td><td>0</td><td> 0.04929169</td><td>0.04927728</td><td> 0.04333654</td><td>-0.28435904</td><td>-1.1072125</td><td>-0.05811906</td><td> 0.101630066</td><td>-1.063701539</td></tr>\n",
       "\t<tr><th scope=row>3</th><td>TRBV7-4</td><td>CASSLGARNYGYTF  </td><td>TCRBV07-04</td><td>14</td><td>YGYTF</td><td>LGAR  </td><td> 0.109522820</td><td> 0.0001183332</td><td> 0.00000000</td><td>0</td><td> 0.07556345</td><td>0.00000000</td><td>-0.01902781</td><td> 0.16617679</td><td> 0.6171971</td><td> 0.22060730</td><td> 0.004313987</td><td> 0.842118411</td></tr>\n",
       "\t<tr><th scope=row>4</th><td>TRBV27 </td><td>CASSLGNTGELFF   </td><td>TCRBV27-01</td><td>13</td><td>GELFF</td><td>LGN   </td><td> 0.009020616</td><td> 0.1605914869</td><td>-0.08561152</td><td>0</td><td> 0.04929169</td><td>0.04927728</td><td> 0.00000000</td><td> 0.18256955</td><td> 0.2550502</td><td> 0.55478140</td><td> 0.101630066</td><td> 0.911461712</td></tr>\n",
       "\t<tr><th scope=row>5</th><td>TRBV6-3</td><td>CASSYSGLGETQYF  </td><td>TCRBV06-03</td><td>14</td><td>ETQYF</td><td>YSGL  </td><td> 0.168379878</td><td> 0.2199108129</td><td> 0.00000000</td><td>0</td><td>-0.13000186</td><td>0.06365549</td><td>-0.01902781</td><td> 0.30291651</td><td> 0.6171971</td><td> 1.39932785</td><td>-0.595981372</td><td> 1.420543601</td></tr>\n",
       "\t<tr><th scope=row>6</th><td>TRBV9  </td><td>CASSYRGGANVLTF  </td><td>TCRBV09-01</td><td>14</td><td>NVLTF</td><td>YRGG  </td><td> 0.215007684</td><td> 0.1040336065</td><td>-0.40507820</td><td>0</td><td> 0.00000000</td><td>0.07077208</td><td>-0.01902781</td><td>-0.03429263</td><td>-1.0963316</td><td> 1.10639468</td><td>-0.015954040</td><td>-0.005890979</td></tr>\n",
       "</tbody>\n",
       "</table>\n"
      ],
      "text/latex": [
       "A data.frame: 6 × 18\n",
       "\\begin{tabular}{r|llllllllllllllllll}\n",
       "  & v\\_gene & cdr3 & vgene & length & Jmotif & cdr3MR & perc\\_score & pos\\_score & vgene\\_score & p107\\_score & Jmotif\\_score & p113\\_score & length\\_score & total\\_score & vTiRP & mTiRP & jTiRP & TiRP\\\\\n",
       "  & <fct> & <chr> & <chr> & <int> & <chr> & <chr> & <dbl> & <dbl> & <dbl> & <dbl> & <dbl> & <dbl> & <dbl> & <dbl> & <dbl> & <dbl> & <dbl> & <dbl>\\\\\n",
       "\\hline\n",
       "\t1 & TRBV9   & CASSVQRGLTDTQYF  & TCRBV09-01 & 15 & DTQYF & VQRGL  &  0.038860944 & -0.0098895129 & -0.40507820 & 0 & -0.02404515 & 0.04927728 &  0.00000000 & -0.35087464 & -1.0963316 & -0.04014530 & -0.208593475 & -1.345070398\\\\\n",
       "\t2 & TRBV4-3 & CASSQVAGGHTGELFF & TCRBV04-03 & 16 & GELFF & QVAGGH & -0.018614110 &  0.0000000000 & -0.40765045 & 0 &  0.04929169 & 0.04927728 &  0.04333654 & -0.28435904 & -1.1072125 & -0.05811906 &  0.101630066 & -1.063701539\\\\\n",
       "\t3 & TRBV7-4 & CASSLGARNYGYTF   & TCRBV07-04 & 14 & YGYTF & LGAR   &  0.109522820 &  0.0001183332 &  0.00000000 & 0 &  0.07556345 & 0.00000000 & -0.01902781 &  0.16617679 &  0.6171971 &  0.22060730 &  0.004313987 &  0.842118411\\\\\n",
       "\t4 & TRBV27  & CASSLGNTGELFF    & TCRBV27-01 & 13 & GELFF & LGN    &  0.009020616 &  0.1605914869 & -0.08561152 & 0 &  0.04929169 & 0.04927728 &  0.00000000 &  0.18256955 &  0.2550502 &  0.55478140 &  0.101630066 &  0.911461712\\\\\n",
       "\t5 & TRBV6-3 & CASSYSGLGETQYF   & TCRBV06-03 & 14 & ETQYF & YSGL   &  0.168379878 &  0.2199108129 &  0.00000000 & 0 & -0.13000186 & 0.06365549 & -0.01902781 &  0.30291651 &  0.6171971 &  1.39932785 & -0.595981372 &  1.420543601\\\\\n",
       "\t6 & TRBV9   & CASSYRGGANVLTF   & TCRBV09-01 & 14 & NVLTF & YRGG   &  0.215007684 &  0.1040336065 & -0.40507820 & 0 &  0.00000000 & 0.07077208 & -0.01902781 & -0.03429263 & -1.0963316 &  1.10639468 & -0.015954040 & -0.005890979\\\\\n",
       "\\end{tabular}\n"
      ],
      "text/markdown": [
       "\n",
       "A data.frame: 6 × 18\n",
       "\n",
       "| <!--/--> | v_gene &lt;fct&gt; | cdr3 &lt;chr&gt; | vgene &lt;chr&gt; | length &lt;int&gt; | Jmotif &lt;chr&gt; | cdr3MR &lt;chr&gt; | perc_score &lt;dbl&gt; | pos_score &lt;dbl&gt; | vgene_score &lt;dbl&gt; | p107_score &lt;dbl&gt; | Jmotif_score &lt;dbl&gt; | p113_score &lt;dbl&gt; | length_score &lt;dbl&gt; | total_score &lt;dbl&gt; | vTiRP &lt;dbl&gt; | mTiRP &lt;dbl&gt; | jTiRP &lt;dbl&gt; | TiRP &lt;dbl&gt; |\n",
       "|---|---|---|---|---|---|---|---|---|---|---|---|---|---|---|---|---|---|---|\n",
       "| 1 | TRBV9   | CASSVQRGLTDTQYF  | TCRBV09-01 | 15 | DTQYF | VQRGL  |  0.038860944 | -0.0098895129 | -0.40507820 | 0 | -0.02404515 | 0.04927728 |  0.00000000 | -0.35087464 | -1.0963316 | -0.04014530 | -0.208593475 | -1.345070398 |\n",
       "| 2 | TRBV4-3 | CASSQVAGGHTGELFF | TCRBV04-03 | 16 | GELFF | QVAGGH | -0.018614110 |  0.0000000000 | -0.40765045 | 0 |  0.04929169 | 0.04927728 |  0.04333654 | -0.28435904 | -1.1072125 | -0.05811906 |  0.101630066 | -1.063701539 |\n",
       "| 3 | TRBV7-4 | CASSLGARNYGYTF   | TCRBV07-04 | 14 | YGYTF | LGAR   |  0.109522820 |  0.0001183332 |  0.00000000 | 0 |  0.07556345 | 0.00000000 | -0.01902781 |  0.16617679 |  0.6171971 |  0.22060730 |  0.004313987 |  0.842118411 |\n",
       "| 4 | TRBV27  | CASSLGNTGELFF    | TCRBV27-01 | 13 | GELFF | LGN    |  0.009020616 |  0.1605914869 | -0.08561152 | 0 |  0.04929169 | 0.04927728 |  0.00000000 |  0.18256955 |  0.2550502 |  0.55478140 |  0.101630066 |  0.911461712 |\n",
       "| 5 | TRBV6-3 | CASSYSGLGETQYF   | TCRBV06-03 | 14 | ETQYF | YSGL   |  0.168379878 |  0.2199108129 |  0.00000000 | 0 | -0.13000186 | 0.06365549 | -0.01902781 |  0.30291651 |  0.6171971 |  1.39932785 | -0.595981372 |  1.420543601 |\n",
       "| 6 | TRBV9   | CASSYRGGANVLTF   | TCRBV09-01 | 14 | NVLTF | YRGG   |  0.215007684 |  0.1040336065 | -0.40507820 | 0 |  0.00000000 | 0.07077208 | -0.01902781 | -0.03429263 | -1.0963316 |  1.10639468 | -0.015954040 | -0.005890979 |\n",
       "\n"
      ],
      "text/plain": [
       "  v_gene  cdr3             vgene      length Jmotif cdr3MR perc_score  \n",
       "1 TRBV9   CASSVQRGLTDTQYF  TCRBV09-01 15     DTQYF  VQRGL   0.038860944\n",
       "2 TRBV4-3 CASSQVAGGHTGELFF TCRBV04-03 16     GELFF  QVAGGH -0.018614110\n",
       "3 TRBV7-4 CASSLGARNYGYTF   TCRBV07-04 14     YGYTF  LGAR    0.109522820\n",
       "4 TRBV27  CASSLGNTGELFF    TCRBV27-01 13     GELFF  LGN     0.009020616\n",
       "5 TRBV6-3 CASSYSGLGETQYF   TCRBV06-03 14     ETQYF  YSGL    0.168379878\n",
       "6 TRBV9   CASSYRGGANVLTF   TCRBV09-01 14     NVLTF  YRGG    0.215007684\n",
       "  pos_score     vgene_score p107_score Jmotif_score p113_score length_score\n",
       "1 -0.0098895129 -0.40507820 0          -0.02404515  0.04927728  0.00000000 \n",
       "2  0.0000000000 -0.40765045 0           0.04929169  0.04927728  0.04333654 \n",
       "3  0.0001183332  0.00000000 0           0.07556345  0.00000000 -0.01902781 \n",
       "4  0.1605914869 -0.08561152 0           0.04929169  0.04927728  0.00000000 \n",
       "5  0.2199108129  0.00000000 0          -0.13000186  0.06365549 -0.01902781 \n",
       "6  0.1040336065 -0.40507820 0           0.00000000  0.07077208 -0.01902781 \n",
       "  total_score vTiRP      mTiRP       jTiRP        TiRP        \n",
       "1 -0.35087464 -1.0963316 -0.04014530 -0.208593475 -1.345070398\n",
       "2 -0.28435904 -1.1072125 -0.05811906  0.101630066 -1.063701539\n",
       "3  0.16617679  0.6171971  0.22060730  0.004313987  0.842118411\n",
       "4  0.18256955  0.2550502  0.55478140  0.101630066  0.911461712\n",
       "5  0.30291651  0.6171971  1.39932785 -0.595981372  1.420543601\n",
       "6 -0.03429263 -1.0963316  1.10639468 -0.015954040 -0.005890979"
      ]
     },
     "metadata": {},
     "output_type": "display_data"
    }
   ],
   "source": [
    "head(res)"
   ]
  },
  {
   "cell_type": "markdown",
   "id": "b9ecaf5e",
   "metadata": {},
   "source": [
    "The final column, TiRP, is the scaled sum of individual TCR feature effect sizes, which are are provided in prior columns."
   ]
  },
  {
   "cell_type": "code",
   "execution_count": null,
   "id": "1cf3c0da",
   "metadata": {},
   "outputs": [],
   "source": []
  }
 ],
 "metadata": {
  "kernelspec": {
   "display_name": "R",
   "language": "R",
   "name": "ir"
  },
  "language_info": {
   "codemirror_mode": "r",
   "file_extension": ".r",
   "mimetype": "text/x-r-source",
   "name": "R",
   "pygments_lexer": "r",
   "version": "4.1.2"
  }
 },
 "nbformat": 4,
 "nbformat_minor": 5
}
